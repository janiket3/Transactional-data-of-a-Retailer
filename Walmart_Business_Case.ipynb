{
 "cells": [
  {
   "cell_type": "markdown",
   "id": "b9efa1cf-cbd8-4519-98b0-1438d9401c1f",
   "metadata": {},
   "source": [
    "**About Walmart**\n",
    "\n",
    "Walmart is an American multinational retail corporation that operates a chain of supercenters, discount departmental stores, and grocery stores from the United States. Walmart has more than 100 million customers worldwide.\n",
    "\n",
    "**Business Problem**\n",
    "\n",
    "The Management team at Walmart Inc. wants to analyze the customer purchase behavior (specifically, purchase amount) against the customer’s gender and the various other factors to help the business make better decisions. They want to understand if the spending habits differ between male and female customers: Do women spend more on Black Friday than men? (Assume 50 million customers are male and 50 million are female).\n",
    "\n",
    "\n",
    "**Dataset**\n",
    "\n",
    "The company collected the transactional data of customers who purchased products from the Walmart Stores during Black Friday. The dataset has the following features:\n",
    "Dataset link: Walmart_data.csv\n",
    "\n",
    "- User_ID:\tUser ID\n",
    "- Product_ID:\tProduct ID\n",
    "- Gender:\tSex of User\n",
    "- Age:\tAge in bins\n",
    "- Occupation:\tOccupation(Masked)\n",
    "- City_Category:\tCategory of the City (A,B,C)\n",
    "- StayInCurrentCityYears:\tNumber of years stay in current city\n",
    "- Marital_Status:\tMarital Status\n",
    "- ProductCategory:\tProduct Category (Masked)\n",
    "- Purchase:\tPurchase Amount\n",
    "\n",
    "**Answering questions like**\n",
    "- Are women spending more money per transaction than men? Why or Why not?\n",
    "- Confidence intervals and distribution of the mean of the expenses by female and male customers.\n",
    "- Are confidence intervals of average male and female spending overlapping? How can Walmart leverage this conclusion to make changes or improvements?\n",
    "- Results when the same activity is performed for Married vs Unmarried.\n",
    "- Results when the same activity is performed for Age."
   ]
  },
  {
   "cell_type": "code",
   "execution_count": null,
   "id": "36bb939f-6e14-4c10-91dd-7021fb840262",
   "metadata": {},
   "outputs": [],
   "source": []
  },
  {
   "cell_type": "code",
   "execution_count": 1,
   "id": "8c4d18c8-0e35-4a8e-986f-837743696dd0",
   "metadata": {
    "tags": []
   },
   "outputs": [],
   "source": [
    "import numpy as np\n",
    "import pandas as pd\n",
    "import seaborn as sns\n",
    "import matplotlib.pyplot as plt\n",
    "import scipy.stats\n",
    "from scipy.stats import norm\n",
    "\n",
    "from scipy.stats import binom, geom"
   ]
  },
  {
   "cell_type": "code",
   "execution_count": null,
   "id": "08939191-f7a2-46f9-a3b1-5de1897e24d4",
   "metadata": {},
   "outputs": [],
   "source": []
  },
  {
   "cell_type": "code",
   "execution_count": null,
   "id": "9a85a9bb-7d24-4555-ba13-6d3adad4ec1f",
   "metadata": {},
   "outputs": [],
   "source": []
  },
  {
   "cell_type": "code",
   "execution_count": 2,
   "id": "bb50b66e-3153-4fbf-9709-6e5d85c0dcc0",
   "metadata": {
    "tags": []
   },
   "outputs": [
    {
     "data": {
      "text/html": [
       "<div>\n",
       "<style scoped>\n",
       "    .dataframe tbody tr th:only-of-type {\n",
       "        vertical-align: middle;\n",
       "    }\n",
       "\n",
       "    .dataframe tbody tr th {\n",
       "        vertical-align: top;\n",
       "    }\n",
       "\n",
       "    .dataframe thead th {\n",
       "        text-align: right;\n",
       "    }\n",
       "</style>\n",
       "<table border=\"1\" class=\"dataframe\">\n",
       "  <thead>\n",
       "    <tr style=\"text-align: right;\">\n",
       "      <th></th>\n",
       "      <th>User_ID</th>\n",
       "      <th>Product_ID</th>\n",
       "      <th>Gender</th>\n",
       "      <th>Age</th>\n",
       "      <th>Occupation</th>\n",
       "      <th>City_Category</th>\n",
       "      <th>Stay_In_Current_City_Years</th>\n",
       "      <th>Marital_Status</th>\n",
       "      <th>Product_Category</th>\n",
       "      <th>Purchase</th>\n",
       "    </tr>\n",
       "  </thead>\n",
       "  <tbody>\n",
       "    <tr>\n",
       "      <th>0</th>\n",
       "      <td>1000001</td>\n",
       "      <td>P00069042</td>\n",
       "      <td>F</td>\n",
       "      <td>0-17</td>\n",
       "      <td>10</td>\n",
       "      <td>A</td>\n",
       "      <td>2</td>\n",
       "      <td>0</td>\n",
       "      <td>3</td>\n",
       "      <td>8370</td>\n",
       "    </tr>\n",
       "    <tr>\n",
       "      <th>1</th>\n",
       "      <td>1000001</td>\n",
       "      <td>P00248942</td>\n",
       "      <td>F</td>\n",
       "      <td>0-17</td>\n",
       "      <td>10</td>\n",
       "      <td>A</td>\n",
       "      <td>2</td>\n",
       "      <td>0</td>\n",
       "      <td>1</td>\n",
       "      <td>15200</td>\n",
       "    </tr>\n",
       "    <tr>\n",
       "      <th>2</th>\n",
       "      <td>1000001</td>\n",
       "      <td>P00087842</td>\n",
       "      <td>F</td>\n",
       "      <td>0-17</td>\n",
       "      <td>10</td>\n",
       "      <td>A</td>\n",
       "      <td>2</td>\n",
       "      <td>0</td>\n",
       "      <td>12</td>\n",
       "      <td>1422</td>\n",
       "    </tr>\n",
       "    <tr>\n",
       "      <th>3</th>\n",
       "      <td>1000001</td>\n",
       "      <td>P00085442</td>\n",
       "      <td>F</td>\n",
       "      <td>0-17</td>\n",
       "      <td>10</td>\n",
       "      <td>A</td>\n",
       "      <td>2</td>\n",
       "      <td>0</td>\n",
       "      <td>12</td>\n",
       "      <td>1057</td>\n",
       "    </tr>\n",
       "    <tr>\n",
       "      <th>4</th>\n",
       "      <td>1000002</td>\n",
       "      <td>P00285442</td>\n",
       "      <td>M</td>\n",
       "      <td>55+</td>\n",
       "      <td>16</td>\n",
       "      <td>C</td>\n",
       "      <td>4+</td>\n",
       "      <td>0</td>\n",
       "      <td>8</td>\n",
       "      <td>7969</td>\n",
       "    </tr>\n",
       "    <tr>\n",
       "      <th>...</th>\n",
       "      <td>...</td>\n",
       "      <td>...</td>\n",
       "      <td>...</td>\n",
       "      <td>...</td>\n",
       "      <td>...</td>\n",
       "      <td>...</td>\n",
       "      <td>...</td>\n",
       "      <td>...</td>\n",
       "      <td>...</td>\n",
       "      <td>...</td>\n",
       "    </tr>\n",
       "    <tr>\n",
       "      <th>550063</th>\n",
       "      <td>1006033</td>\n",
       "      <td>P00372445</td>\n",
       "      <td>M</td>\n",
       "      <td>51-55</td>\n",
       "      <td>13</td>\n",
       "      <td>B</td>\n",
       "      <td>1</td>\n",
       "      <td>1</td>\n",
       "      <td>20</td>\n",
       "      <td>368</td>\n",
       "    </tr>\n",
       "    <tr>\n",
       "      <th>550064</th>\n",
       "      <td>1006035</td>\n",
       "      <td>P00375436</td>\n",
       "      <td>F</td>\n",
       "      <td>26-35</td>\n",
       "      <td>1</td>\n",
       "      <td>C</td>\n",
       "      <td>3</td>\n",
       "      <td>0</td>\n",
       "      <td>20</td>\n",
       "      <td>371</td>\n",
       "    </tr>\n",
       "    <tr>\n",
       "      <th>550065</th>\n",
       "      <td>1006036</td>\n",
       "      <td>P00375436</td>\n",
       "      <td>F</td>\n",
       "      <td>26-35</td>\n",
       "      <td>15</td>\n",
       "      <td>B</td>\n",
       "      <td>4+</td>\n",
       "      <td>1</td>\n",
       "      <td>20</td>\n",
       "      <td>137</td>\n",
       "    </tr>\n",
       "    <tr>\n",
       "      <th>550066</th>\n",
       "      <td>1006038</td>\n",
       "      <td>P00375436</td>\n",
       "      <td>F</td>\n",
       "      <td>55+</td>\n",
       "      <td>1</td>\n",
       "      <td>C</td>\n",
       "      <td>2</td>\n",
       "      <td>0</td>\n",
       "      <td>20</td>\n",
       "      <td>365</td>\n",
       "    </tr>\n",
       "    <tr>\n",
       "      <th>550067</th>\n",
       "      <td>1006039</td>\n",
       "      <td>P00371644</td>\n",
       "      <td>F</td>\n",
       "      <td>46-50</td>\n",
       "      <td>0</td>\n",
       "      <td>B</td>\n",
       "      <td>4+</td>\n",
       "      <td>1</td>\n",
       "      <td>20</td>\n",
       "      <td>490</td>\n",
       "    </tr>\n",
       "  </tbody>\n",
       "</table>\n",
       "<p>550068 rows × 10 columns</p>\n",
       "</div>"
      ],
      "text/plain": [
       "        User_ID Product_ID Gender    Age  Occupation City_Category  \\\n",
       "0       1000001  P00069042      F   0-17          10             A   \n",
       "1       1000001  P00248942      F   0-17          10             A   \n",
       "2       1000001  P00087842      F   0-17          10             A   \n",
       "3       1000001  P00085442      F   0-17          10             A   \n",
       "4       1000002  P00285442      M    55+          16             C   \n",
       "...         ...        ...    ...    ...         ...           ...   \n",
       "550063  1006033  P00372445      M  51-55          13             B   \n",
       "550064  1006035  P00375436      F  26-35           1             C   \n",
       "550065  1006036  P00375436      F  26-35          15             B   \n",
       "550066  1006038  P00375436      F    55+           1             C   \n",
       "550067  1006039  P00371644      F  46-50           0             B   \n",
       "\n",
       "       Stay_In_Current_City_Years  Marital_Status  Product_Category  Purchase  \n",
       "0                               2               0                 3      8370  \n",
       "1                               2               0                 1     15200  \n",
       "2                               2               0                12      1422  \n",
       "3                               2               0                12      1057  \n",
       "4                              4+               0                 8      7969  \n",
       "...                           ...             ...               ...       ...  \n",
       "550063                          1               1                20       368  \n",
       "550064                          3               0                20       371  \n",
       "550065                         4+               1                20       137  \n",
       "550066                          2               0                20       365  \n",
       "550067                         4+               1                20       490  \n",
       "\n",
       "[550068 rows x 10 columns]"
      ]
     },
     "execution_count": 2,
     "metadata": {},
     "output_type": "execute_result"
    }
   ],
   "source": [
    "# Importing the dataset\n",
    "df = pd.read_csv(\"walmart.csv\")\n",
    "df"
   ]
  },
  {
   "cell_type": "raw",
   "id": "2d8927a9-c9a9-4b5b-b48a-03c1dab8f53f",
   "metadata": {},
   "source": [
    "- here, each row represents unique combination of User_ID and Product_ID"
   ]
  },
  {
   "cell_type": "code",
   "execution_count": 3,
   "id": "46787f82-5bba-47fa-bf02-ec4140369abf",
   "metadata": {
    "tags": []
   },
   "outputs": [],
   "source": [
    "# creating a copy of dataframe to retrive the original df later.\n",
    "df2 = df.copy()\n"
   ]
  },
  {
   "cell_type": "code",
   "execution_count": 4,
   "id": "c6d88403-e4bf-4e56-96bd-2955a1dcb764",
   "metadata": {
    "tags": []
   },
   "outputs": [
    {
     "data": {
      "text/plain": [
       "False"
      ]
     },
     "execution_count": 4,
     "metadata": {},
     "output_type": "execute_result"
    }
   ],
   "source": [
    "# as we can notice, the copy created is a deep copy\n",
    "np.shares_memory(df, df2)"
   ]
  },
  {
   "cell_type": "code",
   "execution_count": null,
   "id": "f4140883-9dcc-483d-9e0f-65a0f4cfcc3a",
   "metadata": {},
   "outputs": [],
   "source": []
  },
  {
   "cell_type": "markdown",
   "id": "58b33b16-670b-4adc-ab1a-13e68d7e1222",
   "metadata": {},
   "source": [
    "# Analysing basic metrics"
   ]
  },
  {
   "cell_type": "code",
   "execution_count": 5,
   "id": "52e9de46-2099-4a0e-bc68-46b7c7ba0fc9",
   "metadata": {
    "tags": []
   },
   "outputs": [
    {
     "data": {
      "text/plain": [
       "(550068, 10)"
      ]
     },
     "execution_count": 5,
     "metadata": {},
     "output_type": "execute_result"
    }
   ],
   "source": [
    "df.shape"
   ]
  },
  {
   "cell_type": "raw",
   "id": "a260b5fb-2fca-4fb0-bf84-90f7f3959c68",
   "metadata": {},
   "source": [
    "From shape, it is clear that Our dataset contains 550068 rows and 10 columns"
   ]
  },
  {
   "cell_type": "code",
   "execution_count": null,
   "id": "4a9829fd-e023-4c1e-ac2d-f4d263bbf105",
   "metadata": {},
   "outputs": [],
   "source": []
  },
  {
   "cell_type": "code",
   "execution_count": 6,
   "id": "ca9b11d5-1b21-4895-9974-a6423ef14420",
   "metadata": {
    "tags": []
   },
   "outputs": [
    {
     "name": "stdout",
     "output_type": "stream",
     "text": [
      "<class 'pandas.core.frame.DataFrame'>\n",
      "RangeIndex: 550068 entries, 0 to 550067\n",
      "Data columns (total 10 columns):\n",
      " #   Column                      Non-Null Count   Dtype \n",
      "---  ------                      --------------   ----- \n",
      " 0   User_ID                     550068 non-null  int64 \n",
      " 1   Product_ID                  550068 non-null  object\n",
      " 2   Gender                      550068 non-null  object\n",
      " 3   Age                         550068 non-null  object\n",
      " 4   Occupation                  550068 non-null  int64 \n",
      " 5   City_Category               550068 non-null  object\n",
      " 6   Stay_In_Current_City_Years  550068 non-null  object\n",
      " 7   Marital_Status              550068 non-null  int64 \n",
      " 8   Product_Category            550068 non-null  int64 \n",
      " 9   Purchase                    550068 non-null  int64 \n",
      "dtypes: int64(5), object(5)\n",
      "memory usage: 42.0+ MB\n"
     ]
    }
   ],
   "source": [
    "df.info()"
   ]
  },
  {
   "cell_type": "raw",
   "id": "e782376e-cf5e-4764-bd80-af880df7f323",
   "metadata": {},
   "source": [
    "- so our dataset dont have any missing value --> no need to perform any missing value treatment\n",
    "- there are 5 integer columns and 5 categorical columns\n",
    "- based on the information provided along with the dataset, \n",
    "  it would be better to convert \"User_ID\", \"Occupation\", \"Marital_Status\" & \"Product_Category\" columns to categorical variables"
   ]
  },
  {
   "cell_type": "code",
   "execution_count": null,
   "id": "e9fa35e2-69fb-4405-8534-e69f4eda3aa8",
   "metadata": {},
   "outputs": [],
   "source": []
  },
  {
   "cell_type": "code",
   "execution_count": 7,
   "id": "93ff445c-7592-4a58-be34-475000592cec",
   "metadata": {
    "tags": []
   },
   "outputs": [
    {
     "data": {
      "text/plain": [
       "User_ID                        5891\n",
       "Product_ID                     3631\n",
       "Gender                            2\n",
       "Age                               7\n",
       "Occupation                       21\n",
       "City_Category                     3\n",
       "Stay_In_Current_City_Years        5\n",
       "Marital_Status                    2\n",
       "Product_Category                 20\n",
       "Purchase                      18105\n",
       "dtype: int64"
      ]
     },
     "execution_count": 7,
     "metadata": {},
     "output_type": "execute_result"
    }
   ],
   "source": [
    "# Fetching no. of unique values in each column of dataframe df\n",
    "df.nunique()"
   ]
  },
  {
   "cell_type": "code",
   "execution_count": null,
   "id": "eca4ad54-e5ea-4dd1-998c-4912b9b08c73",
   "metadata": {},
   "outputs": [],
   "source": []
  },
  {
   "cell_type": "code",
   "execution_count": null,
   "id": "7c59f184-2606-4489-89a5-aca2e3033f42",
   "metadata": {},
   "outputs": [],
   "source": []
  },
  {
   "cell_type": "code",
   "execution_count": 11,
   "id": "fd78c937-b4ac-40a9-9d26-bf9a2bddf374",
   "metadata": {
    "tags": []
   },
   "outputs": [],
   "source": [
    "# converting \"User_ID\", \"Occupation\", \"Marital_Status\", \"Product_Category\" columns to categorical variables\n",
    "df[[\"User_ID\", \"Occupation\", \"Marital_Status\", \"Product_Category\"]] = df[[\"User_ID\", \"Occupation\", \"Marital_Status\", \"Product_Category\"]].astype(\"object\")"
   ]
  },
  {
   "cell_type": "code",
   "execution_count": 12,
   "id": "0527816a-326d-4beb-9eab-5a0f0d754852",
   "metadata": {
    "tags": []
   },
   "outputs": [
    {
     "name": "stdout",
     "output_type": "stream",
     "text": [
      "<class 'pandas.core.frame.DataFrame'>\n",
      "RangeIndex: 550068 entries, 0 to 550067\n",
      "Data columns (total 10 columns):\n",
      " #   Column                      Non-Null Count   Dtype \n",
      "---  ------                      --------------   ----- \n",
      " 0   User_ID                     550068 non-null  object\n",
      " 1   Product_ID                  550068 non-null  object\n",
      " 2   Gender                      550068 non-null  object\n",
      " 3   Age                         550068 non-null  object\n",
      " 4   Occupation                  550068 non-null  object\n",
      " 5   City_Category               550068 non-null  object\n",
      " 6   Stay_In_Current_City_Years  550068 non-null  object\n",
      " 7   Marital_Status              550068 non-null  object\n",
      " 8   Product_Category            550068 non-null  object\n",
      " 9   Purchase                    550068 non-null  int64 \n",
      "dtypes: int64(1), object(9)\n",
      "memory usage: 42.0+ MB\n"
     ]
    }
   ],
   "source": [
    "df.info()"
   ]
  },
  {
   "cell_type": "raw",
   "id": "384fe6cb-4dd9-4f15-a315-a0e003ac3560",
   "metadata": {},
   "source": [
    "so now, there are 1 integer columns and 9 categorical columns"
   ]
  },
  {
   "cell_type": "code",
   "execution_count": null,
   "id": "e9af4c12-886d-43fb-b4c1-231074eed5ae",
   "metadata": {},
   "outputs": [],
   "source": []
  },
  {
   "cell_type": "code",
   "execution_count": 13,
   "id": "f37f72d9-e10c-4c55-be22-10e405614d62",
   "metadata": {
    "tags": []
   },
   "outputs": [
    {
     "data": {
      "text/html": [
       "<div>\n",
       "<style scoped>\n",
       "    .dataframe tbody tr th:only-of-type {\n",
       "        vertical-align: middle;\n",
       "    }\n",
       "\n",
       "    .dataframe tbody tr th {\n",
       "        vertical-align: top;\n",
       "    }\n",
       "\n",
       "    .dataframe thead th {\n",
       "        text-align: right;\n",
       "    }\n",
       "</style>\n",
       "<table border=\"1\" class=\"dataframe\">\n",
       "  <thead>\n",
       "    <tr style=\"text-align: right;\">\n",
       "      <th></th>\n",
       "      <th>User_ID</th>\n",
       "      <th>Product_ID</th>\n",
       "      <th>Gender</th>\n",
       "      <th>Age</th>\n",
       "      <th>Occupation</th>\n",
       "      <th>City_Category</th>\n",
       "      <th>Stay_In_Current_City_Years</th>\n",
       "      <th>Marital_Status</th>\n",
       "      <th>Product_Category</th>\n",
       "      <th>Purchase</th>\n",
       "    </tr>\n",
       "  </thead>\n",
       "  <tbody>\n",
       "    <tr>\n",
       "      <th>count</th>\n",
       "      <td>550068.0</td>\n",
       "      <td>550068</td>\n",
       "      <td>550068</td>\n",
       "      <td>550068</td>\n",
       "      <td>550068.0</td>\n",
       "      <td>550068</td>\n",
       "      <td>550068</td>\n",
       "      <td>550068.0</td>\n",
       "      <td>550068.0</td>\n",
       "      <td>550068.000000</td>\n",
       "    </tr>\n",
       "    <tr>\n",
       "      <th>unique</th>\n",
       "      <td>5891.0</td>\n",
       "      <td>3631</td>\n",
       "      <td>2</td>\n",
       "      <td>7</td>\n",
       "      <td>21.0</td>\n",
       "      <td>3</td>\n",
       "      <td>5</td>\n",
       "      <td>2.0</td>\n",
       "      <td>20.0</td>\n",
       "      <td>NaN</td>\n",
       "    </tr>\n",
       "    <tr>\n",
       "      <th>top</th>\n",
       "      <td>1001680.0</td>\n",
       "      <td>P00265242</td>\n",
       "      <td>M</td>\n",
       "      <td>26-35</td>\n",
       "      <td>4.0</td>\n",
       "      <td>B</td>\n",
       "      <td>1</td>\n",
       "      <td>0.0</td>\n",
       "      <td>5.0</td>\n",
       "      <td>NaN</td>\n",
       "    </tr>\n",
       "    <tr>\n",
       "      <th>freq</th>\n",
       "      <td>1026.0</td>\n",
       "      <td>1880</td>\n",
       "      <td>414259</td>\n",
       "      <td>219587</td>\n",
       "      <td>72308.0</td>\n",
       "      <td>231173</td>\n",
       "      <td>193821</td>\n",
       "      <td>324731.0</td>\n",
       "      <td>150933.0</td>\n",
       "      <td>NaN</td>\n",
       "    </tr>\n",
       "    <tr>\n",
       "      <th>mean</th>\n",
       "      <td>NaN</td>\n",
       "      <td>NaN</td>\n",
       "      <td>NaN</td>\n",
       "      <td>NaN</td>\n",
       "      <td>NaN</td>\n",
       "      <td>NaN</td>\n",
       "      <td>NaN</td>\n",
       "      <td>NaN</td>\n",
       "      <td>NaN</td>\n",
       "      <td>9263.968713</td>\n",
       "    </tr>\n",
       "    <tr>\n",
       "      <th>std</th>\n",
       "      <td>NaN</td>\n",
       "      <td>NaN</td>\n",
       "      <td>NaN</td>\n",
       "      <td>NaN</td>\n",
       "      <td>NaN</td>\n",
       "      <td>NaN</td>\n",
       "      <td>NaN</td>\n",
       "      <td>NaN</td>\n",
       "      <td>NaN</td>\n",
       "      <td>5023.065394</td>\n",
       "    </tr>\n",
       "    <tr>\n",
       "      <th>min</th>\n",
       "      <td>NaN</td>\n",
       "      <td>NaN</td>\n",
       "      <td>NaN</td>\n",
       "      <td>NaN</td>\n",
       "      <td>NaN</td>\n",
       "      <td>NaN</td>\n",
       "      <td>NaN</td>\n",
       "      <td>NaN</td>\n",
       "      <td>NaN</td>\n",
       "      <td>12.000000</td>\n",
       "    </tr>\n",
       "    <tr>\n",
       "      <th>25%</th>\n",
       "      <td>NaN</td>\n",
       "      <td>NaN</td>\n",
       "      <td>NaN</td>\n",
       "      <td>NaN</td>\n",
       "      <td>NaN</td>\n",
       "      <td>NaN</td>\n",
       "      <td>NaN</td>\n",
       "      <td>NaN</td>\n",
       "      <td>NaN</td>\n",
       "      <td>5823.000000</td>\n",
       "    </tr>\n",
       "    <tr>\n",
       "      <th>50%</th>\n",
       "      <td>NaN</td>\n",
       "      <td>NaN</td>\n",
       "      <td>NaN</td>\n",
       "      <td>NaN</td>\n",
       "      <td>NaN</td>\n",
       "      <td>NaN</td>\n",
       "      <td>NaN</td>\n",
       "      <td>NaN</td>\n",
       "      <td>NaN</td>\n",
       "      <td>8047.000000</td>\n",
       "    </tr>\n",
       "    <tr>\n",
       "      <th>75%</th>\n",
       "      <td>NaN</td>\n",
       "      <td>NaN</td>\n",
       "      <td>NaN</td>\n",
       "      <td>NaN</td>\n",
       "      <td>NaN</td>\n",
       "      <td>NaN</td>\n",
       "      <td>NaN</td>\n",
       "      <td>NaN</td>\n",
       "      <td>NaN</td>\n",
       "      <td>12054.000000</td>\n",
       "    </tr>\n",
       "    <tr>\n",
       "      <th>max</th>\n",
       "      <td>NaN</td>\n",
       "      <td>NaN</td>\n",
       "      <td>NaN</td>\n",
       "      <td>NaN</td>\n",
       "      <td>NaN</td>\n",
       "      <td>NaN</td>\n",
       "      <td>NaN</td>\n",
       "      <td>NaN</td>\n",
       "      <td>NaN</td>\n",
       "      <td>23961.000000</td>\n",
       "    </tr>\n",
       "  </tbody>\n",
       "</table>\n",
       "</div>"
      ],
      "text/plain": [
       "          User_ID Product_ID  Gender     Age  Occupation City_Category  \\\n",
       "count    550068.0     550068  550068  550068    550068.0        550068   \n",
       "unique     5891.0       3631       2       7        21.0             3   \n",
       "top     1001680.0  P00265242       M   26-35         4.0             B   \n",
       "freq       1026.0       1880  414259  219587     72308.0        231173   \n",
       "mean          NaN        NaN     NaN     NaN         NaN           NaN   \n",
       "std           NaN        NaN     NaN     NaN         NaN           NaN   \n",
       "min           NaN        NaN     NaN     NaN         NaN           NaN   \n",
       "25%           NaN        NaN     NaN     NaN         NaN           NaN   \n",
       "50%           NaN        NaN     NaN     NaN         NaN           NaN   \n",
       "75%           NaN        NaN     NaN     NaN         NaN           NaN   \n",
       "max           NaN        NaN     NaN     NaN         NaN           NaN   \n",
       "\n",
       "       Stay_In_Current_City_Years  Marital_Status  Product_Category  \\\n",
       "count                      550068        550068.0          550068.0   \n",
       "unique                          5             2.0              20.0   \n",
       "top                             1             0.0               5.0   \n",
       "freq                       193821        324731.0          150933.0   \n",
       "mean                          NaN             NaN               NaN   \n",
       "std                           NaN             NaN               NaN   \n",
       "min                           NaN             NaN               NaN   \n",
       "25%                           NaN             NaN               NaN   \n",
       "50%                           NaN             NaN               NaN   \n",
       "75%                           NaN             NaN               NaN   \n",
       "max                           NaN             NaN               NaN   \n",
       "\n",
       "             Purchase  \n",
       "count   550068.000000  \n",
       "unique            NaN  \n",
       "top               NaN  \n",
       "freq              NaN  \n",
       "mean      9263.968713  \n",
       "std       5023.065394  \n",
       "min         12.000000  \n",
       "25%       5823.000000  \n",
       "50%       8047.000000  \n",
       "75%      12054.000000  \n",
       "max      23961.000000  "
      ]
     },
     "execution_count": 13,
     "metadata": {},
     "output_type": "execute_result"
    }
   ],
   "source": [
    "# checking the characteristics of columns \n",
    "df.describe(include=\"all\")"
   ]
  },
  {
   "cell_type": "raw",
   "id": "7e5d3a31-d09e-4f0f-ac5f-b0f7f03acbb9",
   "metadata": {},
   "source": [
    "As per above table,\n",
    "    - We need to deal with 7 gender bins, most frequent among those is 26-35 yr\n",
    "    - All the products in the data are categorised into 20 different product categories\n",
    "    - All the custsomers are divided into 3 different city categories\n",
    "    - There are more Male Customer purchases than Female in Dataset"
   ]
  },
  {
   "cell_type": "code",
   "execution_count": null,
   "id": "13842cc6-59a3-4877-b21b-9049e2b1f9a8",
   "metadata": {},
   "outputs": [],
   "source": []
  },
  {
   "cell_type": "code",
   "execution_count": 14,
   "id": "6b7cc410-2f28-45be-9968-54b2271a9681",
   "metadata": {
    "tags": []
   },
   "outputs": [
    {
     "data": {
      "text/html": [
       "<div>\n",
       "<style scoped>\n",
       "    .dataframe tbody tr th:only-of-type {\n",
       "        vertical-align: middle;\n",
       "    }\n",
       "\n",
       "    .dataframe tbody tr th {\n",
       "        vertical-align: top;\n",
       "    }\n",
       "\n",
       "    .dataframe thead th {\n",
       "        text-align: right;\n",
       "    }\n",
       "</style>\n",
       "<table border=\"1\" class=\"dataframe\">\n",
       "  <thead>\n",
       "    <tr style=\"text-align: right;\">\n",
       "      <th></th>\n",
       "      <th>User_ID</th>\n",
       "      <th>Product_ID</th>\n",
       "      <th>Gender</th>\n",
       "      <th>Age</th>\n",
       "      <th>Occupation</th>\n",
       "      <th>City_Category</th>\n",
       "      <th>Stay_In_Current_City_Years</th>\n",
       "      <th>Marital_Status</th>\n",
       "      <th>Product_Category</th>\n",
       "      <th>Purchase</th>\n",
       "    </tr>\n",
       "  </thead>\n",
       "  <tbody>\n",
       "  </tbody>\n",
       "</table>\n",
       "</div>"
      ],
      "text/plain": [
       "Empty DataFrame\n",
       "Columns: [User_ID, Product_ID, Gender, Age, Occupation, City_Category, Stay_In_Current_City_Years, Marital_Status, Product_Category, Purchase]\n",
       "Index: []"
      ]
     },
     "execution_count": 14,
     "metadata": {},
     "output_type": "execute_result"
    }
   ],
   "source": [
    "# There are no duplicate values in df\n",
    "df[df.duplicated()==True]"
   ]
  },
  {
   "cell_type": "code",
   "execution_count": 15,
   "id": "8bb51401-a6df-478c-b12a-4fd90206036e",
   "metadata": {
    "tags": []
   },
   "outputs": [
    {
     "data": {
      "text/plain": [
       "0"
      ]
     },
     "execution_count": 15,
     "metadata": {},
     "output_type": "execute_result"
    }
   ],
   "source": [
    "# checking for null values if any\n",
    "df.isnull().sum().sum()"
   ]
  },
  {
   "cell_type": "raw",
   "id": "68a21c25-204a-411a-b9be-8ab53d87c9c3",
   "metadata": {},
   "source": [
    "As we can see, there are neither duplicate records nor any missing values. \n",
    "So we dont need to perform any treatment in that regard."
   ]
  },
  {
   "cell_type": "code",
   "execution_count": null,
   "id": "678c19c7-622c-483d-a599-1d486648af17",
   "metadata": {},
   "outputs": [],
   "source": []
  },
  {
   "cell_type": "code",
   "execution_count": 16,
   "id": "618972ee-b730-469d-92e0-6f169426b594",
   "metadata": {
    "tags": []
   },
   "outputs": [
    {
     "data": {
      "text/plain": [
       "5891"
      ]
     },
     "execution_count": 16,
     "metadata": {},
     "output_type": "execute_result"
    }
   ],
   "source": [
    "# First of all we need to groupby User_ID\n",
    "dfg = df.groupby([\"User_ID\"])\n",
    "dfg.ngroups"
   ]
  },
  {
   "cell_type": "markdown",
   "id": "927c565f-2f14-4dc2-8fd4-decffb1bd7a6",
   "metadata": {},
   "source": [
    "so there are 5891 total users who purchased on Black Friday"
   ]
  },
  {
   "cell_type": "code",
   "execution_count": 17,
   "id": "ef8727ff-04ce-4843-a51d-e34677688e8d",
   "metadata": {
    "tags": []
   },
   "outputs": [
    {
     "data": {
      "text/plain": [
       "Gender\n",
       "F    1666\n",
       "M    4225\n",
       "Name: User_ID, dtype: int64"
      ]
     },
     "execution_count": 17,
     "metadata": {},
     "output_type": "execute_result"
    }
   ],
   "source": [
    "df.groupby(\"Gender\")[\"User_ID\"].nunique()\n"
   ]
  },
  {
   "cell_type": "raw",
   "id": "1e3aeb64-9938-4980-81d3-c37038602e1f",
   "metadata": {},
   "source": [
    "- Among those 5891 users, 4225 are males and 1666 are females\n",
    "- So, in our dataset there are significantly more males than females"
   ]
  },
  {
   "cell_type": "code",
   "execution_count": 18,
   "id": "2ab81ed6-fdf4-499c-a333-7fac33b7cddb",
   "metadata": {
    "tags": []
   },
   "outputs": [
    {
     "data": {
      "text/plain": [
       "User_ID  Product_ID  Gender  Age    Occupation  City_Category  Stay_In_Current_City_Years  Marital_Status  Product_Category  Purchase\n",
       "1000001  P00000142   F       0-17   10          A              2                           0               3                 13650       1\n",
       "         P00004842   F       0-17   10          A              2                           0               3                 13645       1\n",
       "         P00142242   F       0-17   10          A              2                           0               8                 7882        1\n",
       "         P00297042   F       0-17   10          A              2                           0               8                 7839        1\n",
       "         P00289942   F       0-17   10          A              2                           0               3                 10900       1\n",
       "                                                                                                                                        ..\n",
       "1006040  P00146442   M       26-35  6           B              2                           0               8                 5924        1\n",
       "         P00145742   M       26-35  6           B              2                           0               1                 4265        1\n",
       "         P00143142   M       26-35  6           B              2                           0               8                 4121        1\n",
       "         P00134342   M       26-35  6           B              2                           0               5                 5334        1\n",
       "         P00349442   M       26-35  6           B              2                           0               6                 16389       1\n",
       "Length: 550068, dtype: int64"
      ]
     },
     "execution_count": 18,
     "metadata": {},
     "output_type": "execute_result"
    }
   ],
   "source": [
    "dfg.value_counts()"
   ]
  },
  {
   "cell_type": "code",
   "execution_count": null,
   "id": "6082d216-989e-47e5-a83c-1b47f4699b7a",
   "metadata": {
    "tags": []
   },
   "outputs": [],
   "source": []
  },
  {
   "cell_type": "markdown",
   "id": "f3e3a816-27da-4eac-89ec-46416a269e92",
   "metadata": {},
   "source": [
    "## Purchase distribution as per Age"
   ]
  },
  {
   "cell_type": "code",
   "execution_count": 20,
   "id": "1a05fc3e-4db4-4343-99de-93e3e177e599",
   "metadata": {
    "tags": []
   },
   "outputs": [
    {
     "data": {
      "text/plain": [
       "[26-35]    34.849771\n",
       "[36-45]    19.809879\n",
       "[18-25]    18.146325\n",
       "[46-50]     9.013750\n",
       "[51-55]     8.164997\n",
       "[55+]       6.314717\n",
       "[0-17]      3.700560\n",
       "Name: Age, dtype: float64"
      ]
     },
     "execution_count": 20,
     "metadata": {},
     "output_type": "execute_result"
    }
   ],
   "source": [
    "# Checking the data on unique User_ID and Age\n",
    "# Analysing fraction of no. of purchases as per Age\n",
    "\n",
    "grouped_userid_age=df.groupby([\"User_ID\"])[\"Age\"].unique()\n",
    "t1 = grouped_userid_age.value_counts()/len(grouped_userid_age)*100\n",
    "t1"
   ]
  },
  {
   "cell_type": "code",
   "execution_count": 21,
   "id": "55bd8864-c39e-42f3-89f8-f2713f0bcc7c",
   "metadata": {
    "tags": []
   },
   "outputs": [
    {
     "data": {
      "text/plain": [
       "Age\n",
       "26-35    39.871374\n",
       "36-45    20.145361\n",
       "18-25    17.933325\n",
       "46-50     8.258612\n",
       "51-55     7.203947\n",
       "55+       3.939850\n",
       "0-17      2.647530\n",
       "Name: Purchase, dtype: float64"
      ]
     },
     "execution_count": 21,
     "metadata": {},
     "output_type": "execute_result"
    }
   ],
   "source": [
    "# Analysing sales revenue as per Age\n",
    "t2 = (df.groupby([\"Age\"])[\"Purchase\"].sum()/df[\"Purchase\"].sum()).sort_values(ascending = False)*100\n",
    "t2"
   ]
  },
  {
   "cell_type": "raw",
   "id": "98fb8732-9502-4757-a19c-65f901520969",
   "metadata": {
    "tags": []
   },
   "source": [
    "- People of age between 18-45 contributes to around 78% sales revenue\n",
    "- Age group 26-35 has highest no. of purchases and sales revenue contribution.\n"
   ]
  },
  {
   "cell_type": "code",
   "execution_count": 22,
   "id": "d2a95f9c-8999-422a-b511-bedffce52a0c",
   "metadata": {
    "tags": []
   },
   "outputs": [
    {
     "data": {
      "text/plain": [
       "array([39.87137442, 20.14536122, 17.93332529,  8.25861201,  7.2039469 ,\n",
       "        3.93984993,  2.64753023])"
      ]
     },
     "execution_count": 22,
     "metadata": {},
     "output_type": "execute_result"
    }
   ],
   "source": [
    "t2.values"
   ]
  },
  {
   "cell_type": "code",
   "execution_count": 23,
   "id": "cb5e1153-5efa-4709-a697-55699cfdb131",
   "metadata": {
    "tags": []
   },
   "outputs": [
    {
     "data": {
      "text/plain": [
       "Index(['26-35', '36-45', '18-25', '46-50', '51-55', '55+', '0-17'], dtype='object', name='Age')"
      ]
     },
     "execution_count": 23,
     "metadata": {},
     "output_type": "execute_result"
    }
   ],
   "source": [
    "t2.index"
   ]
  },
  {
   "cell_type": "code",
   "execution_count": null,
   "id": "507dfc16-1146-4e22-9226-c309e3f29323",
   "metadata": {},
   "outputs": [],
   "source": []
  },
  {
   "cell_type": "code",
   "execution_count": 24,
   "id": "ae83edad-50fe-4373-a404-5748d07e576c",
   "metadata": {
    "tags": []
   },
   "outputs": [
    {
     "data": {
      "image/png": "[encoded data removed]",
      "text/plain": [
       "<Figure size 640x480 with 1 Axes>"
      ]
     },
     "metadata": {},
     "output_type": "display_data"
    }
   ],
   "source": [
    "plt.title(\"Sales Revenue distribution as per Age\")\n",
    "plt.pie(t2, labels = t2.index, autopct = \"%.1f%%\")\n",
    "plt.show()"
   ]
  },
  {
   "cell_type": "code",
   "execution_count": null,
   "id": "6f3ec899-a1df-462b-8353-825dc8686877",
   "metadata": {},
   "outputs": [],
   "source": []
  },
  {
   "cell_type": "markdown",
   "id": "215b72f1-a423-4909-93c6-0c3855879fae",
   "metadata": {},
   "source": [
    "## Purchase distribution as per City_Category"
   ]
  },
  {
   "cell_type": "code",
   "execution_count": 25,
   "id": "117cfdfe-2eed-418b-ba80-60b415ead70a",
   "metadata": {
    "tags": []
   },
   "outputs": [
    {
     "data": {
      "text/plain": [
       "[C]    53.284672\n",
       "[B]    28.976405\n",
       "[A]    17.738924\n",
       "Name: City_Category, dtype: float64"
      ]
     },
     "execution_count": 25,
     "metadata": {},
     "output_type": "execute_result"
    }
   ],
   "source": [
    "# Analysing count of purchases as per City category\n",
    "\n",
    "grouped_userid_citycat=df.groupby([\"User_ID\"])[\"City_Category\"].unique()\n",
    "t1 = grouped_userid_citycat.value_counts()/len(grouped_userid_citycat)*100\n",
    "t1"
   ]
  },
  {
   "cell_type": "code",
   "execution_count": 26,
   "id": "402849e2-304e-4eb8-95b4-30d858590f5e",
   "metadata": {
    "tags": []
   },
   "outputs": [
    {
     "data": {
      "text/plain": [
       "City_Category\n",
       "B    41.515136\n",
       "C    32.650483\n",
       "A    25.834381\n",
       "Name: Purchase, dtype: float64"
      ]
     },
     "execution_count": 26,
     "metadata": {},
     "output_type": "execute_result"
    }
   ],
   "source": [
    "# Analysing sales revenue as per City category\n",
    "t2 = (df.groupby([\"City_Category\"])[\"Purchase\"].sum()/df[\"Purchase\"].sum()).sort_values(ascending = False)*100\n",
    "t2"
   ]
  },
  {
   "cell_type": "code",
   "execution_count": 27,
   "id": "67a5f8a2-cd20-41f3-8390-f8edbe22a37f",
   "metadata": {
    "tags": []
   },
   "outputs": [
    {
     "data": {
      "image/png": "[encoded data removed]",
      "text/plain": [
       "<Figure size 500x600 with 1 Axes>"
      ]
     },
     "metadata": {},
     "output_type": "display_data"
    },
    {
     "data": {
      "image/png": "[encoded data removed]",
      "text/plain": [
       "<Figure size 500x600 with 1 Axes>"
      ]
     },
     "metadata": {},
     "output_type": "display_data"
    }
   ],
   "source": [
    "plt.figure(figsize = (5, 6))\n",
    "plt.subplot(1,2,1)\n",
    "plt.title(\"% total purchase count as per City category\")\n",
    "plt.pie(t1, labels = t1.index, autopct = \"%.1f%%\")\n",
    "plt.show()\n",
    "\n",
    "plt.figure(figsize = (5, 6))\n",
    "plt.subplot(1,2,2)\n",
    "plt.title(\"Sales Revenue distribution as per City category\")\n",
    "plt.pie(t2, labels = t2.index, autopct = \"%.1f%%\")\n",
    "plt.show()"
   ]
  },
  {
   "cell_type": "raw",
   "id": "6cec586e-ef56-4cd6-b2a7-8bb2bac3a0a3",
   "metadata": {},
   "source": [
    "- City cat: B has highest share in sales revenue, while city cat: C has highest share of sales volume\n",
    "- It can be concluded that City cat: A and B has higher bill value than City cat: C"
   ]
  },
  {
   "cell_type": "code",
   "execution_count": null,
   "id": "fa111db7-d213-47f3-aae7-fd1f25c2d412",
   "metadata": {
    "tags": []
   },
   "outputs": [],
   "source": []
  },
  {
   "cell_type": "markdown",
   "id": "5225ae36-cffd-419c-bcc7-9b1622011dbd",
   "metadata": {
    "tags": []
   },
   "source": [
    "## Purchase distribution as per Gender"
   ]
  },
  {
   "cell_type": "code",
   "execution_count": null,
   "id": "b65610a8-185a-40f4-a888-02cda6586dfe",
   "metadata": {
    "tags": []
   },
   "outputs": [],
   "source": []
  },
  {
   "cell_type": "code",
   "execution_count": 28,
   "id": "81093971-f90e-4bb2-93af-504ea398baa9",
   "metadata": {
    "tags": []
   },
   "outputs": [
    {
     "data": {
      "text/plain": [
       "[M]    71.719572\n",
       "[F]    28.280428\n",
       "Name: Gender, dtype: float64"
      ]
     },
     "execution_count": 28,
     "metadata": {},
     "output_type": "execute_result"
    }
   ],
   "source": [
    "# Analysing count of purchases as per Gender\n",
    "\n",
    "grouped_userid_gender=df.groupby([\"User_ID\"])[\"Gender\"].unique()\n",
    "t1 = grouped_userid_gender.value_counts()/len(grouped_userid_gender)*100\n",
    "t1"
   ]
  },
  {
   "cell_type": "code",
   "execution_count": 29,
   "id": "28906949-4df8-4d8a-a711-3d5df10e634e",
   "metadata": {
    "tags": []
   },
   "outputs": [
    {
     "data": {
      "text/plain": [
       "Gender\n",
       "M    76.721424\n",
       "F    23.278576\n",
       "Name: Purchase, dtype: float64"
      ]
     },
     "execution_count": 29,
     "metadata": {},
     "output_type": "execute_result"
    }
   ],
   "source": [
    "# Analysing sales revenue as per Gender\n",
    "t2 = (df.groupby([\"Gender\"])[\"Purchase\"].sum()/df[\"Purchase\"].sum()).sort_values(ascending = False)*100\n",
    "t2"
   ]
  },
  {
   "cell_type": "raw",
   "id": "8be44b8e-3f86-4501-aef9-7d242f675969",
   "metadata": {},
   "source": [
    "- So Males contribute to 72% of total sales volume which account for 77% of total sales revenue"
   ]
  },
  {
   "cell_type": "code",
   "execution_count": null,
   "id": "e9e04e3c-507f-4601-9b6c-c761bd34102a",
   "metadata": {},
   "outputs": [],
   "source": []
  },
  {
   "cell_type": "code",
   "execution_count": null,
   "id": "6e1ce3da-fe8d-443b-9c2f-312c88781567",
   "metadata": {},
   "outputs": [],
   "source": []
  },
  {
   "cell_type": "markdown",
   "id": "01785588-33e4-4db6-b78a-55d8a7f2b682",
   "metadata": {},
   "source": [
    "## Purchase distribution as per Marital_Status"
   ]
  },
  {
   "cell_type": "code",
   "execution_count": null,
   "id": "b2e5a485-3c90-4a29-9e02-9a83345928c6",
   "metadata": {},
   "outputs": [],
   "source": []
  },
  {
   "cell_type": "code",
   "execution_count": 30,
   "id": "752ccda0-08a9-4820-a794-936eb2c71267",
   "metadata": {
    "tags": []
   },
   "outputs": [
    {
     "data": {
      "text/plain": [
       "[0]    58.003735\n",
       "[1]    41.996265\n",
       "Name: Marital_Status, dtype: float64"
      ]
     },
     "execution_count": 30,
     "metadata": {},
     "output_type": "execute_result"
    }
   ],
   "source": [
    "# Analysing count of purchases as per Marital_Status\n",
    "\n",
    "grouped_userid_marital = df.groupby([\"User_ID\"])[\"Marital_Status\"].unique()\n",
    "t1 = grouped_userid_marital.value_counts()/len(grouped_userid_marital)*100\n",
    "t1"
   ]
  },
  {
   "cell_type": "code",
   "execution_count": 31,
   "id": "51ddb55c-352d-40bc-a659-75d5dfa9ce07",
   "metadata": {
    "tags": []
   },
   "outputs": [
    {
     "data": {
      "text/plain": [
       "Marital_Status\n",
       "0    59.047057\n",
       "1    40.952943\n",
       "Name: Purchase, dtype: float64"
      ]
     },
     "execution_count": 31,
     "metadata": {},
     "output_type": "execute_result"
    }
   ],
   "source": [
    "# Analysing sales revenue as per Gender\n",
    "t2 = (df.groupby([\"Marital_Status\"])[\"Purchase\"].sum()/df[\"Purchase\"].sum()).sort_values(ascending = False)*100\n",
    "t2"
   ]
  },
  {
   "cell_type": "raw",
   "id": "ceab33a7-4f34-44bf-b33c-2a19b0179664",
   "metadata": {
    "tags": []
   },
   "source": [
    "- So Marital_Status doesnt seem to have any effect on bill value"
   ]
  },
  {
   "cell_type": "code",
   "execution_count": null,
   "id": "db64be6e-41ec-417d-b41d-6ff19492da42",
   "metadata": {},
   "outputs": [],
   "source": []
  },
  {
   "cell_type": "code",
   "execution_count": null,
   "id": "ed615c35-4dbc-4e1d-8156-9bd1ae119933",
   "metadata": {},
   "outputs": [],
   "source": []
  },
  {
   "cell_type": "markdown",
   "id": "3f480a2d-bc19-4ad0-b988-a9cec41d0066",
   "metadata": {},
   "source": [
    "## Purchase distribution as per Stay_In_Current_City_Years"
   ]
  },
  {
   "cell_type": "code",
   "execution_count": 32,
   "id": "ccea5b1b-8aa7-4a56-84ca-5fd1decac598",
   "metadata": {
    "tags": []
   },
   "outputs": [
    {
     "data": {
      "text/plain": [
       "[1]     35.409947\n",
       "[2]     19.436428\n",
       "[3]     16.618571\n",
       "[4+]    15.430317\n",
       "[0]     13.104736\n",
       "Name: Stay_In_Current_City_Years, dtype: float64"
      ]
     },
     "execution_count": 32,
     "metadata": {},
     "output_type": "execute_result"
    }
   ],
   "source": [
    "# Analysing count of purchases as per Stay_In_Current_City_Years\n",
    "\n",
    "grouped_userid_city_stay = df.groupby([\"User_ID\"])[\"Stay_In_Current_City_Years\"].unique()\n",
    "t1 = grouped_userid_city_stay.value_counts()/len(grouped_userid_city_stay)*100\n",
    "t1"
   ]
  },
  {
   "cell_type": "code",
   "execution_count": 33,
   "id": "58cb1696-fc7f-4ec6-b517-a0175b33007d",
   "metadata": {
    "tags": []
   },
   "outputs": [
    {
     "data": {
      "text/plain": [
       "Stay_In_Current_City_Years\n",
       "1     35.183250\n",
       "2     18.626547\n",
       "3     17.365290\n",
       "4+    15.422160\n",
       "0     13.402754\n",
       "Name: Purchase, dtype: float64"
      ]
     },
     "execution_count": 33,
     "metadata": {},
     "output_type": "execute_result"
    }
   ],
   "source": [
    "# Analysing sales revenue as per Stay_In_Current_City_Years\n",
    "t2 = (df.groupby([\"Stay_In_Current_City_Years\"])[\"Purchase\"].sum()/df[\"Purchase\"].sum()).sort_values(ascending = False)*100\n",
    "t2"
   ]
  },
  {
   "cell_type": "raw",
   "id": "1544907b-813d-4a9a-ba19-fee240b72119",
   "metadata": {},
   "source": [
    "- So Stay_In_Current_City_Years doesnt seem to have any effect on bill value"
   ]
  },
  {
   "cell_type": "code",
   "execution_count": null,
   "id": "0f1f8456-97be-477e-964f-e1a7d8ee7b43",
   "metadata": {},
   "outputs": [],
   "source": []
  },
  {
   "cell_type": "markdown",
   "id": "ec28b3e9-3db3-4a33-a9e6-27aeae84c8b7",
   "metadata": {},
   "source": [
    "# Visual Analysis:"
   ]
  },
  {
   "cell_type": "code",
   "execution_count": 34,
   "id": "ab0c5396-6e9f-46b2-8282-d8472393238a",
   "metadata": {
    "scrolled": true,
    "tags": []
   },
   "outputs": [],
   "source": [
    "grouped_citycat=pd.DataFrame(df.groupby([\"City_Category\"])[\"User_ID\"].nunique())\n",
    "grouped_citycat.reset_index(inplace = True)\n",
    "grouped_citycat.rename(columns={\"User_ID\": \"No. of users\"}, inplace = True)"
   ]
  },
  {
   "cell_type": "code",
   "execution_count": 35,
   "id": "cd774746-12a8-46be-8566-9dc38c264255",
   "metadata": {
    "tags": []
   },
   "outputs": [
    {
     "data": {
      "text/html": [
       "<div>\n",
       "<style scoped>\n",
       "    .dataframe tbody tr th:only-of-type {\n",
       "        vertical-align: middle;\n",
       "    }\n",
       "\n",
       "    .dataframe tbody tr th {\n",
       "        vertical-align: top;\n",
       "    }\n",
       "\n",
       "    .dataframe thead th {\n",
       "        text-align: right;\n",
       "    }\n",
       "</style>\n",
       "<table border=\"1\" class=\"dataframe\">\n",
       "  <thead>\n",
       "    <tr style=\"text-align: right;\">\n",
       "      <th></th>\n",
       "      <th>City_Category</th>\n",
       "      <th>No. of users</th>\n",
       "    </tr>\n",
       "  </thead>\n",
       "  <tbody>\n",
       "    <tr>\n",
       "      <th>0</th>\n",
       "      <td>A</td>\n",
       "      <td>1045</td>\n",
       "    </tr>\n",
       "    <tr>\n",
       "      <th>1</th>\n",
       "      <td>B</td>\n",
       "      <td>1707</td>\n",
       "    </tr>\n",
       "    <tr>\n",
       "      <th>2</th>\n",
       "      <td>C</td>\n",
       "      <td>3139</td>\n",
       "    </tr>\n",
       "  </tbody>\n",
       "</table>\n",
       "</div>"
      ],
      "text/plain": [
       "  City_Category  No. of users\n",
       "0             A          1045\n",
       "1             B          1707\n",
       "2             C          3139"
      ]
     },
     "execution_count": 35,
     "metadata": {},
     "output_type": "execute_result"
    }
   ],
   "source": [
    "grouped_citycat"
   ]
  },
  {
   "cell_type": "code",
   "execution_count": 36,
   "id": "1d62e88c-af6a-4a51-a2e9-36b2bb083617",
   "metadata": {
    "tags": []
   },
   "outputs": [
    {
     "data": {
      "text/plain": [
       "<Axes: xlabel='City_Category', ylabel='No. of users'>"
      ]
     },
     "execution_count": 36,
     "metadata": {},
     "output_type": "execute_result"
    },
    {
     "data": {
      "image/png": "[encoded data removed]",
      "text/plain": [
       "<Figure size 640x480 with 1 Axes>"
      ]
     },
     "metadata": {},
     "output_type": "display_data"
    }
   ],
   "source": [
    "sns.barplot(data=grouped_citycat, x=\"City_Category\", y = \"No. of users\", width = 0.4, color='orange')"
   ]
  },
  {
   "cell_type": "raw",
   "id": "4b3b783b-9d54-44ea-9744-473393a2bf61",
   "metadata": {},
   "source": [
    "- Amongst City Categories, most of the users are from city cat: C"
   ]
  },
  {
   "cell_type": "code",
   "execution_count": null,
   "id": "f746abc6-4da9-4005-9f45-f58ab631d994",
   "metadata": {},
   "outputs": [],
   "source": []
  },
  {
   "cell_type": "code",
   "execution_count": 37,
   "id": "aa5c7971-9a4d-4990-9657-4c8cb85f71e4",
   "metadata": {
    "tags": []
   },
   "outputs": [],
   "source": [
    "grouped_citycat_marital = pd.DataFrame(df.groupby([\"City_Category\", \"Marital_Status\"])[\"User_ID\"].nunique())\n",
    "grouped_citycat_marital.reset_index(inplace = True)\n",
    "grouped_citycat_marital.rename(columns={\"User_ID\": \"No. of users\"}, inplace = True)"
   ]
  },
  {
   "cell_type": "code",
   "execution_count": 38,
   "id": "53ecb69f-a64b-4837-9aa4-ddead2eed78c",
   "metadata": {
    "tags": []
   },
   "outputs": [
    {
     "data": {
      "text/html": [
       "<div>\n",
       "<style scoped>\n",
       "    .dataframe tbody tr th:only-of-type {\n",
       "        vertical-align: middle;\n",
       "    }\n",
       "\n",
       "    .dataframe tbody tr th {\n",
       "        vertical-align: top;\n",
       "    }\n",
       "\n",
       "    .dataframe thead th {\n",
       "        text-align: right;\n",
       "    }\n",
       "</style>\n",
       "<table border=\"1\" class=\"dataframe\">\n",
       "  <thead>\n",
       "    <tr style=\"text-align: right;\">\n",
       "      <th></th>\n",
       "      <th>City_Category</th>\n",
       "      <th>Marital_Status</th>\n",
       "      <th>No. of users</th>\n",
       "    </tr>\n",
       "  </thead>\n",
       "  <tbody>\n",
       "    <tr>\n",
       "      <th>0</th>\n",
       "      <td>A</td>\n",
       "      <td>0</td>\n",
       "      <td>652</td>\n",
       "    </tr>\n",
       "    <tr>\n",
       "      <th>1</th>\n",
       "      <td>A</td>\n",
       "      <td>1</td>\n",
       "      <td>393</td>\n",
       "    </tr>\n",
       "    <tr>\n",
       "      <th>2</th>\n",
       "      <td>B</td>\n",
       "      <td>0</td>\n",
       "      <td>1004</td>\n",
       "    </tr>\n",
       "    <tr>\n",
       "      <th>3</th>\n",
       "      <td>B</td>\n",
       "      <td>1</td>\n",
       "      <td>703</td>\n",
       "    </tr>\n",
       "    <tr>\n",
       "      <th>4</th>\n",
       "      <td>C</td>\n",
       "      <td>0</td>\n",
       "      <td>1761</td>\n",
       "    </tr>\n",
       "    <tr>\n",
       "      <th>5</th>\n",
       "      <td>C</td>\n",
       "      <td>1</td>\n",
       "      <td>1378</td>\n",
       "    </tr>\n",
       "  </tbody>\n",
       "</table>\n",
       "</div>"
      ],
      "text/plain": [
       "  City_Category  Marital_Status  No. of users\n",
       "0             A               0           652\n",
       "1             A               1           393\n",
       "2             B               0          1004\n",
       "3             B               1           703\n",
       "4             C               0          1761\n",
       "5             C               1          1378"
      ]
     },
     "execution_count": 38,
     "metadata": {},
     "output_type": "execute_result"
    }
   ],
   "source": [
    "grouped_citycat_marital"
   ]
  },
  {
   "cell_type": "code",
   "execution_count": 39,
   "id": "d70510c6-7e6a-407e-af41-18fc16e44858",
   "metadata": {
    "tags": []
   },
   "outputs": [
    {
     "data": {
      "text/plain": [
       "<Axes: xlabel='City_Category', ylabel='No. of users'>"
      ]
     },
     "execution_count": 39,
     "metadata": {},
     "output_type": "execute_result"
    },
    {
     "data": {
      "image/png": "[encoded data removed]",
      "text/plain": [
       "<Figure size 640x480 with 1 Axes>"
      ]
     },
     "metadata": {},
     "output_type": "display_data"
    }
   ],
   "source": [
    "sns.barplot(data=grouped_citycat_marital, x=\"City_Category\", y = \"No. of users\", width = 0.4, hue = \"Marital_Status\")"
   ]
  },
  {
   "cell_type": "raw",
   "id": "e422e423-e5e5-4ca7-a3fb-a3c00e1c7880",
   "metadata": {},
   "source": [
    "- So distribution of Marital status is similar across three city categories"
   ]
  },
  {
   "cell_type": "code",
   "execution_count": null,
   "id": "89f6379e-d67c-4f74-bb04-87767d32edbe",
   "metadata": {},
   "outputs": [],
   "source": []
  },
  {
   "cell_type": "code",
   "execution_count": null,
   "id": "076f83c3-75a8-4255-b6d9-71892b440c5a",
   "metadata": {},
   "outputs": [],
   "source": []
  },
  {
   "cell_type": "code",
   "execution_count": 101,
   "id": "6ba86087-f344-431a-b83f-e24db0f7eadb",
   "metadata": {
    "tags": []
   },
   "outputs": [],
   "source": [
    "grouped_gender_age = pd.DataFrame(df.groupby([\"Gender\", \"Age\"])[\"Purchase\"].sum())\n",
    "grouped_gender_age.reset_index(inplace = True)\n",
    "grouped_gender_age.rename(columns={\"Purchase\": \"Total_Sales_Revenue\"}, inplace = True)"
   ]
  },
  {
   "cell_type": "code",
   "execution_count": 110,
   "id": "a1015d95-2e28-480b-9d4b-d25a485c1c73",
   "metadata": {
    "tags": []
   },
   "outputs": [
    {
     "data": {
      "text/plain": [
       "Index(['Gender', 'Age', 'Total_Sales_Revenue'], dtype='object')"
      ]
     },
     "execution_count": 110,
     "metadata": {},
     "output_type": "execute_result"
    }
   ],
   "source": [
    "grouped_gender_age.columns"
   ]
  },
  {
   "cell_type": "code",
   "execution_count": 112,
   "id": "e8a4d4dd-06c7-4b02-b089-725cf2d07ce8",
   "metadata": {
    "tags": []
   },
   "outputs": [
    {
     "data": {
      "text/plain": [
       "<Axes: xlabel='Age', ylabel='Total_Sales_Revenue'>"
      ]
     },
     "execution_count": 112,
     "metadata": {},
     "output_type": "execute_result"
    },
    {
     "data": {
      "image/png": "[encoded data removed]",
      "text/plain": [
       "<Figure size 640x480 with 1 Axes>"
      ]
     },
     "metadata": {},
     "output_type": "display_data"
    }
   ],
   "source": [
    "sns.barplot(data=grouped_gender_age, x=\"Age\", y = \"Total_Sales_Revenue\", width = 0.4, hue = \"Gender\")"
   ]
  },
  {
   "cell_type": "raw",
   "id": "6dd76ad8-2ac0-4c28-b0ed-65c0a10d8b3c",
   "metadata": {},
   "source": [
    "- so distribution of gender is similar across the age groups"
   ]
  },
  {
   "cell_type": "code",
   "execution_count": null,
   "id": "d86c7ff4-c6ce-416f-b383-eaef4ef31b3d",
   "metadata": {},
   "outputs": [],
   "source": []
  },
  {
   "cell_type": "code",
   "execution_count": null,
   "id": "a2b0059a-d924-4333-9df3-598f2979f2b0",
   "metadata": {},
   "outputs": [],
   "source": []
  },
  {
   "cell_type": "code",
   "execution_count": 40,
   "id": "663141ea-7ff4-4c4d-a249-1efd20605397",
   "metadata": {
    "tags": []
   },
   "outputs": [],
   "source": [
    "grouped_citycat_age = pd.DataFrame(df.groupby([\"City_Category\", \"Age\"])[\"Purchase\"].sum())\n",
    "grouped_citycat_age.reset_index(inplace = True)\n",
    "grouped_citycat_age.rename(columns={\"Purchase\": \"Total_Sales_Revenue\"}, inplace = True)"
   ]
  },
  {
   "cell_type": "code",
   "execution_count": 41,
   "id": "70b2f5a7-49ee-468d-89cc-dfe93af3745f",
   "metadata": {
    "tags": []
   },
   "outputs": [
    {
     "data": {
      "text/html": [
       "<div>\n",
       "<style scoped>\n",
       "    .dataframe tbody tr th:only-of-type {\n",
       "        vertical-align: middle;\n",
       "    }\n",
       "\n",
       "    .dataframe tbody tr th {\n",
       "        vertical-align: top;\n",
       "    }\n",
       "\n",
       "    .dataframe thead th {\n",
       "        text-align: right;\n",
       "    }\n",
       "</style>\n",
       "<table border=\"1\" class=\"dataframe\">\n",
       "  <thead>\n",
       "    <tr style=\"text-align: right;\">\n",
       "      <th></th>\n",
       "      <th>City_Category</th>\n",
       "      <th>Age</th>\n",
       "      <th>Total_Sales_Revenue</th>\n",
       "    </tr>\n",
       "  </thead>\n",
       "  <tbody>\n",
       "    <tr>\n",
       "      <th>0</th>\n",
       "      <td>A</td>\n",
       "      <td>0-17</td>\n",
       "      <td>21916841</td>\n",
       "    </tr>\n",
       "    <tr>\n",
       "      <th>1</th>\n",
       "      <td>A</td>\n",
       "      <td>18-25</td>\n",
       "      <td>243236868</td>\n",
       "    </tr>\n",
       "    <tr>\n",
       "      <th>2</th>\n",
       "      <td>A</td>\n",
       "      <td>26-35</td>\n",
       "      <td>660202334</td>\n",
       "    </tr>\n",
       "    <tr>\n",
       "      <th>3</th>\n",
       "      <td>A</td>\n",
       "      <td>36-45</td>\n",
       "      <td>239295720</td>\n",
       "    </tr>\n",
       "    <tr>\n",
       "      <th>4</th>\n",
       "      <td>A</td>\n",
       "      <td>46-50</td>\n",
       "      <td>63507243</td>\n",
       "    </tr>\n",
       "    <tr>\n",
       "      <th>5</th>\n",
       "      <td>A</td>\n",
       "      <td>51-55</td>\n",
       "      <td>57992372</td>\n",
       "    </tr>\n",
       "    <tr>\n",
       "      <th>6</th>\n",
       "      <td>A</td>\n",
       "      <td>55+</td>\n",
       "      <td>30320283</td>\n",
       "    </tr>\n",
       "    <tr>\n",
       "      <th>7</th>\n",
       "      <td>B</td>\n",
       "      <td>0-17</td>\n",
       "      <td>48465500</td>\n",
       "    </tr>\n",
       "    <tr>\n",
       "      <th>8</th>\n",
       "      <td>B</td>\n",
       "      <td>18-25</td>\n",
       "      <td>390594232</td>\n",
       "    </tr>\n",
       "    <tr>\n",
       "      <th>9</th>\n",
       "      <td>B</td>\n",
       "      <td>26-35</td>\n",
       "      <td>837919708</td>\n",
       "    </tr>\n",
       "    <tr>\n",
       "      <th>10</th>\n",
       "      <td>B</td>\n",
       "      <td>36-45</td>\n",
       "      <td>433517875</td>\n",
       "    </tr>\n",
       "    <tr>\n",
       "      <th>11</th>\n",
       "      <td>B</td>\n",
       "      <td>46-50</td>\n",
       "      <td>188713201</td>\n",
       "    </tr>\n",
       "    <tr>\n",
       "      <th>12</th>\n",
       "      <td>B</td>\n",
       "      <td>51-55</td>\n",
       "      <td>165717109</td>\n",
       "    </tr>\n",
       "    <tr>\n",
       "      <th>13</th>\n",
       "      <td>B</td>\n",
       "      <td>55+</td>\n",
       "      <td>50605980</td>\n",
       "    </tr>\n",
       "    <tr>\n",
       "      <th>14</th>\n",
       "      <td>C</td>\n",
       "      <td>0-17</td>\n",
       "      <td>64530842</td>\n",
       "    </tr>\n",
       "    <tr>\n",
       "      <th>15</th>\n",
       "      <td>C</td>\n",
       "      <td>18-25</td>\n",
       "      <td>280017575</td>\n",
       "    </tr>\n",
       "    <tr>\n",
       "      <th>16</th>\n",
       "      <td>C</td>\n",
       "      <td>26-35</td>\n",
       "      <td>533648536</td>\n",
       "    </tr>\n",
       "    <tr>\n",
       "      <th>17</th>\n",
       "      <td>C</td>\n",
       "      <td>36-45</td>\n",
       "      <td>353756289</td>\n",
       "    </tr>\n",
       "    <tr>\n",
       "      <th>18</th>\n",
       "      <td>C</td>\n",
       "      <td>46-50</td>\n",
       "      <td>168622959</td>\n",
       "    </tr>\n",
       "    <tr>\n",
       "      <th>19</th>\n",
       "      <td>C</td>\n",
       "      <td>51-55</td>\n",
       "      <td>143390163</td>\n",
       "    </tr>\n",
       "    <tr>\n",
       "      <th>20</th>\n",
       "      <td>C</td>\n",
       "      <td>55+</td>\n",
       "      <td>119841112</td>\n",
       "    </tr>\n",
       "  </tbody>\n",
       "</table>\n",
       "</div>"
      ],
      "text/plain": [
       "   City_Category    Age  Total_Sales_Revenue\n",
       "0              A   0-17             21916841\n",
       "1              A  18-25            243236868\n",
       "2              A  26-35            660202334\n",
       "3              A  36-45            239295720\n",
       "4              A  46-50             63507243\n",
       "5              A  51-55             57992372\n",
       "6              A    55+             30320283\n",
       "7              B   0-17             48465500\n",
       "8              B  18-25            390594232\n",
       "9              B  26-35            837919708\n",
       "10             B  36-45            433517875\n",
       "11             B  46-50            188713201\n",
       "12             B  51-55            165717109\n",
       "13             B    55+             50605980\n",
       "14             C   0-17             64530842\n",
       "15             C  18-25            280017575\n",
       "16             C  26-35            533648536\n",
       "17             C  36-45            353756289\n",
       "18             C  46-50            168622959\n",
       "19             C  51-55            143390163\n",
       "20             C    55+            119841112"
      ]
     },
     "execution_count": 41,
     "metadata": {},
     "output_type": "execute_result"
    }
   ],
   "source": [
    "grouped_citycat_age"
   ]
  },
  {
   "cell_type": "code",
   "execution_count": 42,
   "id": "97e35291-6ad1-423b-b530-2d076ce3e961",
   "metadata": {
    "tags": []
   },
   "outputs": [
    {
     "data": {
      "text/plain": [
       "<Axes: xlabel='City_Category', ylabel='Total_Sales_Revenue'>"
      ]
     },
     "execution_count": 42,
     "metadata": {},
     "output_type": "execute_result"
    },
    {
     "data": {
      "image/png": "[encoded data removed]",
      "text/plain": [
       "<Figure size 640x480 with 1 Axes>"
      ]
     },
     "metadata": {},
     "output_type": "display_data"
    }
   ],
   "source": [
    "sns.barplot(data=grouped_citycat_age, x=\"City_Category\", y = \"Total_Sales_Revenue\", width = 0.4, hue = \"Age\")"
   ]
  },
  {
   "cell_type": "raw",
   "id": "5fe5d162-e6d3-42a6-9fa6-d6bea2a3d6c6",
   "metadata": {},
   "source": [
    "- Even though the number of users between 26-35 is higher in cat: C than in A and B, the sales revenue generated from\n",
    "  that group is comparatively low.\n",
    "- This might indicate that cat: A and B has wealthier income group than cat: C"
   ]
  },
  {
   "cell_type": "code",
   "execution_count": null,
   "id": "668fe9a6-06be-4bbf-b564-b33768263f17",
   "metadata": {},
   "outputs": [],
   "source": []
  },
  {
   "cell_type": "code",
   "execution_count": 43,
   "id": "f4a06eab-a6d4-42b4-aebf-e572d856c6ba",
   "metadata": {
    "tags": []
   },
   "outputs": [],
   "source": [
    "grouped_stay_citycat = pd.DataFrame(df.groupby([\"Stay_In_Current_City_Years\", \"City_Category\"])[\"Purchase\"].sum())\n",
    "grouped_stay_citycat.reset_index(inplace = True)\n",
    "grouped_stay_citycat.rename(columns={\"Purchase\": \"Total_Sales_Revenue\"}, inplace = True)"
   ]
  },
  {
   "cell_type": "code",
   "execution_count": 44,
   "id": "894bd824-56a8-4e5d-b010-a0caeb745300",
   "metadata": {
    "tags": []
   },
   "outputs": [
    {
     "data": {
      "text/html": [
       "<div>\n",
       "<style scoped>\n",
       "    .dataframe tbody tr th:only-of-type {\n",
       "        vertical-align: middle;\n",
       "    }\n",
       "\n",
       "    .dataframe tbody tr th {\n",
       "        vertical-align: top;\n",
       "    }\n",
       "\n",
       "    .dataframe thead th {\n",
       "        text-align: right;\n",
       "    }\n",
       "</style>\n",
       "<table border=\"1\" class=\"dataframe\">\n",
       "  <thead>\n",
       "    <tr style=\"text-align: right;\">\n",
       "      <th></th>\n",
       "      <th>Stay_In_Current_City_Years</th>\n",
       "      <th>City_Category</th>\n",
       "      <th>Total_Sales_Revenue</th>\n",
       "    </tr>\n",
       "  </thead>\n",
       "  <tbody>\n",
       "    <tr>\n",
       "      <th>0</th>\n",
       "      <td>0</td>\n",
       "      <td>A</td>\n",
       "      <td>217277717</td>\n",
       "    </tr>\n",
       "    <tr>\n",
       "      <th>1</th>\n",
       "      <td>0</td>\n",
       "      <td>B</td>\n",
       "      <td>255389454</td>\n",
       "    </tr>\n",
       "    <tr>\n",
       "      <th>2</th>\n",
       "      <td>0</td>\n",
       "      <td>C</td>\n",
       "      <td>210312058</td>\n",
       "    </tr>\n",
       "    <tr>\n",
       "      <th>3</th>\n",
       "      <td>1</td>\n",
       "      <td>A</td>\n",
       "      <td>437761817</td>\n",
       "    </tr>\n",
       "    <tr>\n",
       "      <th>4</th>\n",
       "      <td>1</td>\n",
       "      <td>B</td>\n",
       "      <td>765647432</td>\n",
       "    </tr>\n",
       "    <tr>\n",
       "      <th>5</th>\n",
       "      <td>1</td>\n",
       "      <td>C</td>\n",
       "      <td>589463284</td>\n",
       "    </tr>\n",
       "    <tr>\n",
       "      <th>6</th>\n",
       "      <td>2</td>\n",
       "      <td>A</td>\n",
       "      <td>243224188</td>\n",
       "    </tr>\n",
       "    <tr>\n",
       "      <th>7</th>\n",
       "      <td>2</td>\n",
       "      <td>B</td>\n",
       "      <td>384010246</td>\n",
       "    </tr>\n",
       "    <tr>\n",
       "      <th>8</th>\n",
       "      <td>2</td>\n",
       "      <td>C</td>\n",
       "      <td>321939497</td>\n",
       "    </tr>\n",
       "    <tr>\n",
       "      <th>9</th>\n",
       "      <td>3</td>\n",
       "      <td>A</td>\n",
       "      <td>221128667</td>\n",
       "    </tr>\n",
       "    <tr>\n",
       "      <th>10</th>\n",
       "      <td>3</td>\n",
       "      <td>B</td>\n",
       "      <td>392329940</td>\n",
       "    </tr>\n",
       "    <tr>\n",
       "      <th>11</th>\n",
       "      <td>3</td>\n",
       "      <td>C</td>\n",
       "      <td>271444052</td>\n",
       "    </tr>\n",
       "    <tr>\n",
       "      <th>12</th>\n",
       "      <td>4+</td>\n",
       "      <td>A</td>\n",
       "      <td>197079272</td>\n",
       "    </tr>\n",
       "    <tr>\n",
       "      <th>13</th>\n",
       "      <td>4+</td>\n",
       "      <td>B</td>\n",
       "      <td>318156533</td>\n",
       "    </tr>\n",
       "    <tr>\n",
       "      <th>14</th>\n",
       "      <td>4+</td>\n",
       "      <td>C</td>\n",
       "      <td>270648585</td>\n",
       "    </tr>\n",
       "  </tbody>\n",
       "</table>\n",
       "</div>"
      ],
      "text/plain": [
       "   Stay_In_Current_City_Years City_Category  Total_Sales_Revenue\n",
       "0                           0             A            217277717\n",
       "1                           0             B            255389454\n",
       "2                           0             C            210312058\n",
       "3                           1             A            437761817\n",
       "4                           1             B            765647432\n",
       "5                           1             C            589463284\n",
       "6                           2             A            243224188\n",
       "7                           2             B            384010246\n",
       "8                           2             C            321939497\n",
       "9                           3             A            221128667\n",
       "10                          3             B            392329940\n",
       "11                          3             C            271444052\n",
       "12                         4+             A            197079272\n",
       "13                         4+             B            318156533\n",
       "14                         4+             C            270648585"
      ]
     },
     "execution_count": 44,
     "metadata": {},
     "output_type": "execute_result"
    }
   ],
   "source": [
    "grouped_stay_citycat"
   ]
  },
  {
   "cell_type": "code",
   "execution_count": 45,
   "id": "22d177cc-b2d9-49f8-b409-b06a62d5aa09",
   "metadata": {
    "tags": []
   },
   "outputs": [
    {
     "data": {
      "text/plain": [
       "<Axes: xlabel='Stay_In_Current_City_Years', ylabel='Total_Sales_Revenue'>"
      ]
     },
     "execution_count": 45,
     "metadata": {},
     "output_type": "execute_result"
    },
    {
     "data": {
      "image/png": "[encoded data removed]",
      "text/plain": [
       "<Figure size 640x480 with 1 Axes>"
      ]
     },
     "metadata": {},
     "output_type": "display_data"
    }
   ],
   "source": [
    "sns.barplot(data=grouped_stay_citycat, x=\"Stay_In_Current_City_Years\", y = \"Total_Sales_Revenue\", width = 0.4, hue = \"City_Category\")"
   ]
  },
  {
   "cell_type": "raw",
   "id": "52763857-c3e2-4238-949f-607c62fb3a4b",
   "metadata": {},
   "source": [
    "- So distribution of City_Category is almosts similar amongst stay_in_years"
   ]
  },
  {
   "cell_type": "code",
   "execution_count": null,
   "id": "1cd63ea4-5f06-406e-b290-79b2d7b7a2ed",
   "metadata": {
    "tags": []
   },
   "outputs": [],
   "source": []
  },
  {
   "cell_type": "code",
   "execution_count": 46,
   "id": "210efb47-7188-4df8-b7d8-75ef894b8091",
   "metadata": {},
   "outputs": [],
   "source": [
    "grouped_occupation = pd.DataFrame(df.groupby([\"Occupation\"])[\"Purchase\"].mean())\n",
    "grouped_occupation.reset_index(inplace = True)\n",
    "grouped_occupation.rename(columns={\"Purchase\": \"Mean_Purchase\"}, inplace = True)"
   ]
  },
  {
   "cell_type": "code",
   "execution_count": 47,
   "id": "7e73c7da-de53-4192-aae6-80b145f6c827",
   "metadata": {
    "tags": []
   },
   "outputs": [
    {
     "data": {
      "text/html": [
       "<div>\n",
       "<style scoped>\n",
       "    .dataframe tbody tr th:only-of-type {\n",
       "        vertical-align: middle;\n",
       "    }\n",
       "\n",
       "    .dataframe tbody tr th {\n",
       "        vertical-align: top;\n",
       "    }\n",
       "\n",
       "    .dataframe thead th {\n",
       "        text-align: right;\n",
       "    }\n",
       "</style>\n",
       "<table border=\"1\" class=\"dataframe\">\n",
       "  <thead>\n",
       "    <tr style=\"text-align: right;\">\n",
       "      <th></th>\n",
       "      <th>Occupation</th>\n",
       "      <th>Mean_Purchase</th>\n",
       "    </tr>\n",
       "  </thead>\n",
       "  <tbody>\n",
       "    <tr>\n",
       "      <th>0</th>\n",
       "      <td>0</td>\n",
       "      <td>9124.428588</td>\n",
       "    </tr>\n",
       "    <tr>\n",
       "      <th>1</th>\n",
       "      <td>1</td>\n",
       "      <td>8953.193270</td>\n",
       "    </tr>\n",
       "    <tr>\n",
       "      <th>2</th>\n",
       "      <td>2</td>\n",
       "      <td>8952.481683</td>\n",
       "    </tr>\n",
       "    <tr>\n",
       "      <th>3</th>\n",
       "      <td>3</td>\n",
       "      <td>9178.593088</td>\n",
       "    </tr>\n",
       "    <tr>\n",
       "      <th>4</th>\n",
       "      <td>4</td>\n",
       "      <td>9213.980251</td>\n",
       "    </tr>\n",
       "    <tr>\n",
       "      <th>5</th>\n",
       "      <td>5</td>\n",
       "      <td>9333.149298</td>\n",
       "    </tr>\n",
       "    <tr>\n",
       "      <th>6</th>\n",
       "      <td>6</td>\n",
       "      <td>9256.535691</td>\n",
       "    </tr>\n",
       "    <tr>\n",
       "      <th>7</th>\n",
       "      <td>7</td>\n",
       "      <td>9425.728223</td>\n",
       "    </tr>\n",
       "    <tr>\n",
       "      <th>8</th>\n",
       "      <td>8</td>\n",
       "      <td>9532.592497</td>\n",
       "    </tr>\n",
       "    <tr>\n",
       "      <th>9</th>\n",
       "      <td>9</td>\n",
       "      <td>8637.743761</td>\n",
       "    </tr>\n",
       "    <tr>\n",
       "      <th>10</th>\n",
       "      <td>10</td>\n",
       "      <td>8959.355375</td>\n",
       "    </tr>\n",
       "    <tr>\n",
       "      <th>11</th>\n",
       "      <td>11</td>\n",
       "      <td>9213.845848</td>\n",
       "    </tr>\n",
       "    <tr>\n",
       "      <th>12</th>\n",
       "      <td>12</td>\n",
       "      <td>9796.640239</td>\n",
       "    </tr>\n",
       "    <tr>\n",
       "      <th>13</th>\n",
       "      <td>13</td>\n",
       "      <td>9306.351061</td>\n",
       "    </tr>\n",
       "    <tr>\n",
       "      <th>14</th>\n",
       "      <td>14</td>\n",
       "      <td>9500.702772</td>\n",
       "    </tr>\n",
       "    <tr>\n",
       "      <th>15</th>\n",
       "      <td>15</td>\n",
       "      <td>9778.891163</td>\n",
       "    </tr>\n",
       "    <tr>\n",
       "      <th>16</th>\n",
       "      <td>16</td>\n",
       "      <td>9394.464349</td>\n",
       "    </tr>\n",
       "    <tr>\n",
       "      <th>17</th>\n",
       "      <td>17</td>\n",
       "      <td>9821.478236</td>\n",
       "    </tr>\n",
       "    <tr>\n",
       "      <th>18</th>\n",
       "      <td>18</td>\n",
       "      <td>9169.655844</td>\n",
       "    </tr>\n",
       "    <tr>\n",
       "      <th>19</th>\n",
       "      <td>19</td>\n",
       "      <td>8710.627231</td>\n",
       "    </tr>\n",
       "    <tr>\n",
       "      <th>20</th>\n",
       "      <td>20</td>\n",
       "      <td>8836.494905</td>\n",
       "    </tr>\n",
       "  </tbody>\n",
       "</table>\n",
       "</div>"
      ],
      "text/plain": [
       "    Occupation  Mean_Purchase\n",
       "0            0    9124.428588\n",
       "1            1    8953.193270\n",
       "2            2    8952.481683\n",
       "3            3    9178.593088\n",
       "4            4    9213.980251\n",
       "5            5    9333.149298\n",
       "6            6    9256.535691\n",
       "7            7    9425.728223\n",
       "8            8    9532.592497\n",
       "9            9    8637.743761\n",
       "10          10    8959.355375\n",
       "11          11    9213.845848\n",
       "12          12    9796.640239\n",
       "13          13    9306.351061\n",
       "14          14    9500.702772\n",
       "15          15    9778.891163\n",
       "16          16    9394.464349\n",
       "17          17    9821.478236\n",
       "18          18    9169.655844\n",
       "19          19    8710.627231\n",
       "20          20    8836.494905"
      ]
     },
     "execution_count": 47,
     "metadata": {},
     "output_type": "execute_result"
    }
   ],
   "source": [
    "grouped_occupation"
   ]
  },
  {
   "cell_type": "code",
   "execution_count": 48,
   "id": "b451276f-b9d6-40ba-af67-06818e310f0b",
   "metadata": {
    "tags": []
   },
   "outputs": [
    {
     "data": {
      "text/plain": [
       "<Axes: xlabel='Occupation', ylabel='Mean_Purchase'>"
      ]
     },
     "execution_count": 48,
     "metadata": {},
     "output_type": "execute_result"
    },
    {
     "data": {
      "image/png": "[encoded data removed]",
      "text/plain": [
       "<Figure size 640x480 with 1 Axes>"
      ]
     },
     "metadata": {},
     "output_type": "display_data"
    }
   ],
   "source": [
    "sns.barplot(grouped_occupation, x=\"Occupation\", y=\"Mean_Purchase\")"
   ]
  },
  {
   "cell_type": "raw",
   "id": "5a8e14de-a994-4ace-8068-85230a9ad01c",
   "metadata": {},
   "source": [
    "- Occupation seems to have almost no significant effect on mean purchase amount"
   ]
  },
  {
   "cell_type": "code",
   "execution_count": null,
   "id": "cf311aa3-14b0-4b0c-8ab2-81b9e2bf3223",
   "metadata": {},
   "outputs": [],
   "source": []
  },
  {
   "cell_type": "code",
   "execution_count": 49,
   "id": "3b7ad176-ee79-484a-a886-a9634c527271",
   "metadata": {
    "tags": []
   },
   "outputs": [],
   "source": [
    "grouped_prodcat_citycat = pd.DataFrame(df.groupby([\"Product_Category\", \"City_Category\"])[\"Purchase\"].sum())\n",
    "grouped_prodcat_citycat.reset_index(inplace=True)\n",
    "grouped_prodcat_citycat.rename(columns={\"Purchase\": \"Total_Purchase\"}, inplace = True)\n",
    "grouped_prodcat_citycat.sort_values([\"Total_Purchase\"], ascending=False, inplace=True)\n"
   ]
  },
  {
   "cell_type": "code",
   "execution_count": 50,
   "id": "a2a007ec-a8da-450a-8067-f96f8a71a396",
   "metadata": {
    "scrolled": true,
    "tags": []
   },
   "outputs": [
    {
     "data": {
      "text/html": [
       "<div>\n",
       "<style scoped>\n",
       "    .dataframe tbody tr th:only-of-type {\n",
       "        vertical-align: middle;\n",
       "    }\n",
       "\n",
       "    .dataframe tbody tr th {\n",
       "        vertical-align: top;\n",
       "    }\n",
       "\n",
       "    .dataframe thead th {\n",
       "        text-align: right;\n",
       "    }\n",
       "</style>\n",
       "<table border=\"1\" class=\"dataframe\">\n",
       "  <thead>\n",
       "    <tr style=\"text-align: right;\">\n",
       "      <th></th>\n",
       "      <th>Product_Category</th>\n",
       "      <th>City_Category</th>\n",
       "      <th>Total_Purchase</th>\n",
       "    </tr>\n",
       "  </thead>\n",
       "  <tbody>\n",
       "    <tr>\n",
       "      <th>1</th>\n",
       "      <td>1</td>\n",
       "      <td>B</td>\n",
       "      <td>782682980</td>\n",
       "    </tr>\n",
       "    <tr>\n",
       "      <th>2</th>\n",
       "      <td>1</td>\n",
       "      <td>C</td>\n",
       "      <td>669622760</td>\n",
       "    </tr>\n",
       "    <tr>\n",
       "      <th>0</th>\n",
       "      <td>1</td>\n",
       "      <td>A</td>\n",
       "      <td>457708014</td>\n",
       "    </tr>\n",
       "    <tr>\n",
       "      <th>13</th>\n",
       "      <td>5</td>\n",
       "      <td>B</td>\n",
       "      <td>395641152</td>\n",
       "    </tr>\n",
       "    <tr>\n",
       "      <th>22</th>\n",
       "      <td>8</td>\n",
       "      <td>B</td>\n",
       "      <td>354497531</td>\n",
       "    </tr>\n",
       "    <tr>\n",
       "      <th>14</th>\n",
       "      <td>5</td>\n",
       "      <td>C</td>\n",
       "      <td>287953960</td>\n",
       "    </tr>\n",
       "    <tr>\n",
       "      <th>23</th>\n",
       "      <td>8</td>\n",
       "      <td>C</td>\n",
       "      <td>264011395</td>\n",
       "    </tr>\n",
       "    <tr>\n",
       "      <th>12</th>\n",
       "      <td>5</td>\n",
       "      <td>A</td>\n",
       "      <td>258240117</td>\n",
       "    </tr>\n",
       "    <tr>\n",
       "      <th>21</th>\n",
       "      <td>8</td>\n",
       "      <td>A</td>\n",
       "      <td>235809873</td>\n",
       "    </tr>\n",
       "    <tr>\n",
       "      <th>16</th>\n",
       "      <td>6</td>\n",
       "      <td>B</td>\n",
       "      <td>134293052</td>\n",
       "    </tr>\n",
       "    <tr>\n",
       "      <th>4</th>\n",
       "      <td>2</td>\n",
       "      <td>B</td>\n",
       "      <td>116282478</td>\n",
       "    </tr>\n",
       "    <tr>\n",
       "      <th>17</th>\n",
       "      <td>6</td>\n",
       "      <td>C</td>\n",
       "      <td>104389889</td>\n",
       "    </tr>\n",
       "    <tr>\n",
       "      <th>7</th>\n",
       "      <td>3</td>\n",
       "      <td>B</td>\n",
       "      <td>85853449</td>\n",
       "    </tr>\n",
       "    <tr>\n",
       "      <th>15</th>\n",
       "      <td>6</td>\n",
       "      <td>A</td>\n",
       "      <td>85467361</td>\n",
       "    </tr>\n",
       "    <tr>\n",
       "      <th>5</th>\n",
       "      <td>2</td>\n",
       "      <td>C</td>\n",
       "      <td>85274978</td>\n",
       "    </tr>\n",
       "    <tr>\n",
       "      <th>8</th>\n",
       "      <td>3</td>\n",
       "      <td>C</td>\n",
       "      <td>68641204</td>\n",
       "    </tr>\n",
       "    <tr>\n",
       "      <th>3</th>\n",
       "      <td>2</td>\n",
       "      <td>A</td>\n",
       "      <td>66958730</td>\n",
       "    </tr>\n",
       "    <tr>\n",
       "      <th>46</th>\n",
       "      <td>16</td>\n",
       "      <td>B</td>\n",
       "      <td>58891854</td>\n",
       "    </tr>\n",
       "    <tr>\n",
       "      <th>6</th>\n",
       "      <td>3</td>\n",
       "      <td>A</td>\n",
       "      <td>49590060</td>\n",
       "    </tr>\n",
       "    <tr>\n",
       "      <th>31</th>\n",
       "      <td>11</td>\n",
       "      <td>B</td>\n",
       "      <td>48359709</td>\n",
       "    </tr>\n",
       "    <tr>\n",
       "      <th>47</th>\n",
       "      <td>16</td>\n",
       "      <td>C</td>\n",
       "      <td>45611397</td>\n",
       "    </tr>\n",
       "    <tr>\n",
       "      <th>45</th>\n",
       "      <td>16</td>\n",
       "      <td>A</td>\n",
       "      <td>40617361</td>\n",
       "    </tr>\n",
       "    <tr>\n",
       "      <th>28</th>\n",
       "      <td>10</td>\n",
       "      <td>B</td>\n",
       "      <td>40460490</td>\n",
       "    </tr>\n",
       "    <tr>\n",
       "      <th>43</th>\n",
       "      <td>15</td>\n",
       "      <td>B</td>\n",
       "      <td>38474141</td>\n",
       "    </tr>\n",
       "    <tr>\n",
       "      <th>32</th>\n",
       "      <td>11</td>\n",
       "      <td>C</td>\n",
       "      <td>35212451</td>\n",
       "    </tr>\n",
       "    <tr>\n",
       "      <th>29</th>\n",
       "      <td>10</td>\n",
       "      <td>C</td>\n",
       "      <td>34342663</td>\n",
       "    </tr>\n",
       "    <tr>\n",
       "      <th>30</th>\n",
       "      <td>11</td>\n",
       "      <td>A</td>\n",
       "      <td>30218955</td>\n",
       "    </tr>\n",
       "    <tr>\n",
       "      <th>44</th>\n",
       "      <td>15</td>\n",
       "      <td>C</td>\n",
       "      <td>29332144</td>\n",
       "    </tr>\n",
       "    <tr>\n",
       "      <th>19</th>\n",
       "      <td>7</td>\n",
       "      <td>B</td>\n",
       "      <td>26151755</td>\n",
       "    </tr>\n",
       "    <tr>\n",
       "      <th>27</th>\n",
       "      <td>10</td>\n",
       "      <td>A</td>\n",
       "      <td>26034148</td>\n",
       "    </tr>\n",
       "    <tr>\n",
       "      <th>42</th>\n",
       "      <td>15</td>\n",
       "      <td>A</td>\n",
       "      <td>25162757</td>\n",
       "    </tr>\n",
       "    <tr>\n",
       "      <th>18</th>\n",
       "      <td>7</td>\n",
       "      <td>A</td>\n",
       "      <td>19909313</td>\n",
       "    </tr>\n",
       "    <tr>\n",
       "      <th>20</th>\n",
       "      <td>7</td>\n",
       "      <td>C</td>\n",
       "      <td>14835663</td>\n",
       "    </tr>\n",
       "    <tr>\n",
       "      <th>10</th>\n",
       "      <td>4</td>\n",
       "      <td>B</td>\n",
       "      <td>12020080</td>\n",
       "    </tr>\n",
       "    <tr>\n",
       "      <th>11</th>\n",
       "      <td>4</td>\n",
       "      <td>C</td>\n",
       "      <td>8437701</td>\n",
       "    </tr>\n",
       "    <tr>\n",
       "      <th>40</th>\n",
       "      <td>14</td>\n",
       "      <td>B</td>\n",
       "      <td>8211405</td>\n",
       "    </tr>\n",
       "    <tr>\n",
       "      <th>9</th>\n",
       "      <td>4</td>\n",
       "      <td>A</td>\n",
       "      <td>6922707</td>\n",
       "    </tr>\n",
       "    <tr>\n",
       "      <th>39</th>\n",
       "      <td>14</td>\n",
       "      <td>A</td>\n",
       "      <td>6068752</td>\n",
       "    </tr>\n",
       "    <tr>\n",
       "      <th>41</th>\n",
       "      <td>14</td>\n",
       "      <td>C</td>\n",
       "      <td>5734539</td>\n",
       "    </tr>\n",
       "    <tr>\n",
       "      <th>52</th>\n",
       "      <td>18</td>\n",
       "      <td>B</td>\n",
       "      <td>4110282</td>\n",
       "    </tr>\n",
       "    <tr>\n",
       "      <th>53</th>\n",
       "      <td>18</td>\n",
       "      <td>C</td>\n",
       "      <td>2966473</td>\n",
       "    </tr>\n",
       "    <tr>\n",
       "      <th>25</th>\n",
       "      <td>9</td>\n",
       "      <td>B</td>\n",
       "      <td>2730155</td>\n",
       "    </tr>\n",
       "    <tr>\n",
       "      <th>49</th>\n",
       "      <td>17</td>\n",
       "      <td>B</td>\n",
       "      <td>2721070</td>\n",
       "    </tr>\n",
       "    <tr>\n",
       "      <th>34</th>\n",
       "      <td>12</td>\n",
       "      <td>B</td>\n",
       "      <td>2226915</td>\n",
       "    </tr>\n",
       "    <tr>\n",
       "      <th>51</th>\n",
       "      <td>18</td>\n",
       "      <td>A</td>\n",
       "      <td>2213446</td>\n",
       "    </tr>\n",
       "    <tr>\n",
       "      <th>26</th>\n",
       "      <td>9</td>\n",
       "      <td>C</td>\n",
       "      <td>2009843</td>\n",
       "    </tr>\n",
       "    <tr>\n",
       "      <th>50</th>\n",
       "      <td>17</td>\n",
       "      <td>C</td>\n",
       "      <td>1978157</td>\n",
       "    </tr>\n",
       "    <tr>\n",
       "      <th>35</th>\n",
       "      <td>12</td>\n",
       "      <td>C</td>\n",
       "      <td>1686118</td>\n",
       "    </tr>\n",
       "    <tr>\n",
       "      <th>24</th>\n",
       "      <td>9</td>\n",
       "      <td>A</td>\n",
       "      <td>1630326</td>\n",
       "    </tr>\n",
       "    <tr>\n",
       "      <th>37</th>\n",
       "      <td>13</td>\n",
       "      <td>B</td>\n",
       "      <td>1621116</td>\n",
       "    </tr>\n",
       "    <tr>\n",
       "      <th>33</th>\n",
       "      <td>12</td>\n",
       "      <td>A</td>\n",
       "      <td>1418811</td>\n",
       "    </tr>\n",
       "    <tr>\n",
       "      <th>38</th>\n",
       "      <td>13</td>\n",
       "      <td>C</td>\n",
       "      <td>1251298</td>\n",
       "    </tr>\n",
       "    <tr>\n",
       "      <th>48</th>\n",
       "      <td>17</td>\n",
       "      <td>A</td>\n",
       "      <td>1179472</td>\n",
       "    </tr>\n",
       "    <tr>\n",
       "      <th>36</th>\n",
       "      <td>13</td>\n",
       "      <td>A</td>\n",
       "      <td>1136187</td>\n",
       "    </tr>\n",
       "    <tr>\n",
       "      <th>59</th>\n",
       "      <td>20</td>\n",
       "      <td>C</td>\n",
       "      <td>483114</td>\n",
       "    </tr>\n",
       "    <tr>\n",
       "      <th>58</th>\n",
       "      <td>20</td>\n",
       "      <td>B</td>\n",
       "      <td>286425</td>\n",
       "    </tr>\n",
       "    <tr>\n",
       "      <th>57</th>\n",
       "      <td>20</td>\n",
       "      <td>A</td>\n",
       "      <td>175188</td>\n",
       "    </tr>\n",
       "    <tr>\n",
       "      <th>56</th>\n",
       "      <td>19</td>\n",
       "      <td>C</td>\n",
       "      <td>31729</td>\n",
       "    </tr>\n",
       "    <tr>\n",
       "      <th>55</th>\n",
       "      <td>19</td>\n",
       "      <td>B</td>\n",
       "      <td>17566</td>\n",
       "    </tr>\n",
       "    <tr>\n",
       "      <th>54</th>\n",
       "      <td>19</td>\n",
       "      <td>A</td>\n",
       "      <td>10083</td>\n",
       "    </tr>\n",
       "  </tbody>\n",
       "</table>\n",
       "</div>"
      ],
      "text/plain": [
       "    Product_Category City_Category  Total_Purchase\n",
       "1                  1             B       782682980\n",
       "2                  1             C       669622760\n",
       "0                  1             A       457708014\n",
       "13                 5             B       395641152\n",
       "22                 8             B       354497531\n",
       "14                 5             C       287953960\n",
       "23                 8             C       264011395\n",
       "12                 5             A       258240117\n",
       "21                 8             A       235809873\n",
       "16                 6             B       134293052\n",
       "4                  2             B       116282478\n",
       "17                 6             C       104389889\n",
       "7                  3             B        85853449\n",
       "15                 6             A        85467361\n",
       "5                  2             C        85274978\n",
       "8                  3             C        68641204\n",
       "3                  2             A        66958730\n",
       "46                16             B        58891854\n",
       "6                  3             A        49590060\n",
       "31                11             B        48359709\n",
       "47                16             C        45611397\n",
       "45                16             A        40617361\n",
       "28                10             B        40460490\n",
       "43                15             B        38474141\n",
       "32                11             C        35212451\n",
       "29                10             C        34342663\n",
       "30                11             A        30218955\n",
       "44                15             C        29332144\n",
       "19                 7             B        26151755\n",
       "27                10             A        26034148\n",
       "42                15             A        25162757\n",
       "18                 7             A        19909313\n",
       "20                 7             C        14835663\n",
       "10                 4             B        12020080\n",
       "11                 4             C         8437701\n",
       "40                14             B         8211405\n",
       "9                  4             A         6922707\n",
       "39                14             A         6068752\n",
       "41                14             C         5734539\n",
       "52                18             B         4110282\n",
       "53                18             C         2966473\n",
       "25                 9             B         2730155\n",
       "49                17             B         2721070\n",
       "34                12             B         2226915\n",
       "51                18             A         2213446\n",
       "26                 9             C         2009843\n",
       "50                17             C         1978157\n",
       "35                12             C         1686118\n",
       "24                 9             A         1630326\n",
       "37                13             B         1621116\n",
       "33                12             A         1418811\n",
       "38                13             C         1251298\n",
       "48                17             A         1179472\n",
       "36                13             A         1136187\n",
       "59                20             C          483114\n",
       "58                20             B          286425\n",
       "57                20             A          175188\n",
       "56                19             C           31729\n",
       "55                19             B           17566\n",
       "54                19             A           10083"
      ]
     },
     "execution_count": 50,
     "metadata": {},
     "output_type": "execute_result"
    }
   ],
   "source": [
    "grouped_prodcat_citycat"
   ]
  },
  {
   "cell_type": "code",
   "execution_count": null,
   "id": "cd316a8a-ae2d-42a7-8aee-a55b672987ff",
   "metadata": {},
   "outputs": [],
   "source": []
  },
  {
   "cell_type": "code",
   "execution_count": 51,
   "id": "55247540-c7c9-4ecc-a860-779c3f6dda89",
   "metadata": {
    "tags": []
   },
   "outputs": [
    {
     "data": {
      "text/plain": [
       "<Axes: xlabel='Product_Category', ylabel='Total_Purchase'>"
      ]
     },
     "execution_count": 51,
     "metadata": {},
     "output_type": "execute_result"
    },
    {
     "data": {
      "image/png": "[encoded data removed]",
      "text/plain": [
       "<Figure size 640x480 with 1 Axes>"
      ]
     },
     "metadata": {},
     "output_type": "display_data"
    }
   ],
   "source": [
    "sns.barplot(grouped_prodcat_citycat, x=\"Product_Category\", y=\"Total_Purchase\", hue=\"City_Category\")"
   ]
  },
  {
   "cell_type": "raw",
   "id": "c140a5de-d0ca-43e2-8232-a07ec3f79ad4",
   "metadata": {},
   "source": [
    "- Product_Category: 5, 1, 8 are the top3 categories contributing in sales revenue."
   ]
  },
  {
   "cell_type": "code",
   "execution_count": null,
   "id": "0751315d-4ba0-4bf6-b898-38e49027de17",
   "metadata": {},
   "outputs": [],
   "source": []
  },
  {
   "cell_type": "code",
   "execution_count": 52,
   "id": "b87ec085-a501-4fa3-94be-79de80282a2f",
   "metadata": {
    "tags": []
   },
   "outputs": [
    {
     "data": {
      "text/plain": [
       "<seaborn.axisgrid.FacetGrid at 0x215268beb50>"
      ]
     },
     "execution_count": 52,
     "metadata": {},
     "output_type": "execute_result"
    },
    {
     "data": {
      "image/png": "[encoded data removed]",
      "text/plain": [
       "<Figure size 1000x500 with 2 Axes>"
      ]
     },
     "metadata": {},
     "output_type": "display_data"
    }
   ],
   "source": [
    "sns.catplot(df, x=\"Age\", y=\"Purchase\", col = \"Gender\", kind = \"box\")"
   ]
  },
  {
   "cell_type": "raw",
   "id": "901f2e6d-a30b-4dba-9bba-f6209715641a",
   "metadata": {},
   "source": [
    "- Age doesnt affect the mean purchase amount per user per product"
   ]
  },
  {
   "cell_type": "code",
   "execution_count": null,
   "id": "6433f199-a513-413f-99ff-fc792fc7670a",
   "metadata": {},
   "outputs": [],
   "source": []
  },
  {
   "cell_type": "code",
   "execution_count": 53,
   "id": "68c8f183-c630-4fc7-9947-ec99aa2b58f9",
   "metadata": {
    "tags": []
   },
   "outputs": [
    {
     "data": {
      "text/plain": [
       "<Axes: xlabel='Age', ylabel='count'>"
      ]
     },
     "execution_count": 53,
     "metadata": {},
     "output_type": "execute_result"
    },
    {
     "data": {
      "image/png": "[encoded data removed]",
      "text/plain": [
       "<Figure size 1000x400 with 2 Axes>"
      ]
     },
     "metadata": {},
     "output_type": "display_data"
    }
   ],
   "source": [
    "plt.figure(figsize=(10, 4))\n",
    "\n",
    "plt.subplot(1,2,1)\n",
    "sns.barplot(df, x=\"Age\", y=\"Purchase\", estimator = \"sum\")\n",
    "\n",
    "plt.subplot(1,2,2)\n",
    "sns.countplot(df, x=\"Age\")"
   ]
  },
  {
   "cell_type": "raw",
   "id": "c9663c01-c012-4761-a13e-26e069682bbf",
   "metadata": {},
   "source": [
    "- category 26-35 contributes the most in revenue followed by category 36-45 and 18-25.\n"
   ]
  },
  {
   "cell_type": "raw",
   "id": "e79d5c9c-4a3d-48eb-9be8-dceb6988dbad",
   "metadata": {},
   "source": []
  },
  {
   "cell_type": "code",
   "execution_count": null,
   "id": "0329da18-d093-4522-9d1b-272cc61aa682",
   "metadata": {},
   "outputs": [],
   "source": []
  },
  {
   "cell_type": "raw",
   "id": "5959551c-10ac-4d78-8a60-f42acec3164d",
   "metadata": {},
   "source": [
    "- As, there are only 1 numerical variables, so pairplot/heatmap will not generate any significant insights"
   ]
  },
  {
   "cell_type": "code",
   "execution_count": null,
   "id": "e2ea428f-4caf-4f7c-b6c4-262738b80310",
   "metadata": {},
   "outputs": [],
   "source": []
  },
  {
   "cell_type": "markdown",
   "id": "66bccdd2-02ca-4535-a679-1ff77498d702",
   "metadata": {},
   "source": [
    "# Applying CLT:"
   ]
  },
  {
   "cell_type": "markdown",
   "id": "de211c7b-e1a6-44bc-909e-3d907e3d5476",
   "metadata": {},
   "source": [
    "## Are women spending more money per transaction than men?"
   ]
  },
  {
   "cell_type": "code",
   "execution_count": 54,
   "id": "8562b6d3-3f2f-4347-9f6f-80d641eb06da",
   "metadata": {
    "tags": []
   },
   "outputs": [
    {
     "data": {
      "text/plain": [
       "5891"
      ]
     },
     "execution_count": 54,
     "metadata": {},
     "output_type": "execute_result"
    }
   ],
   "source": [
    "# First of all we need to group by User_ID\n",
    "dfg = df.groupby(\"User_ID\")\n",
    "dfg.ngroups"
   ]
  },
  {
   "cell_type": "raw",
   "id": "f438b15b-fe2d-4ebf-9d7c-ac5a380b2d2f",
   "metadata": {},
   "source": [
    "so there are 5891 total users who purchased on Black Friday"
   ]
  },
  {
   "cell_type": "code",
   "execution_count": 55,
   "id": "4a9ab22f-0214-4cb5-9686-a688e6330d1e",
   "metadata": {
    "tags": []
   },
   "outputs": [],
   "source": [
    "# Saving the mean purchase amount of each User_ID according to gender\n",
    "pur_sum_m = df[df[\"Gender\"]==\"M\"].groupby(\"User_ID\")[\"Purchase\"].sum()\n",
    "pur_sum_f = df[df[\"Gender\"]==\"F\"].groupby(\"User_ID\")[\"Purchase\"].sum()"
   ]
  },
  {
   "cell_type": "code",
   "execution_count": 56,
   "id": "cbf29ded-64d0-44a4-8b28-951bc3a9c8ae",
   "metadata": {
    "tags": []
   },
   "outputs": [
    {
     "data": {
      "text/plain": [
       "5891"
      ]
     },
     "execution_count": 56,
     "metadata": {},
     "output_type": "execute_result"
    }
   ],
   "source": [
    "len(pur_sum_m) + len(pur_sum_f)\n",
    "# sum of male and female groups is equal to total users"
   ]
  },
  {
   "cell_type": "code",
   "execution_count": 57,
   "id": "ceed6927-3f18-46f1-9999-d3a89892b4a5",
   "metadata": {
    "tags": []
   },
   "outputs": [
    {
     "name": "stdout",
     "output_type": "stream",
     "text": [
      "avg money spent per transaction by male: 925344.4023668639\n",
      "avg money spent per transaction by female: 712024.3949579832\n"
     ]
    }
   ],
   "source": [
    "print(f\"avg money spent per transaction by male: {pur_sum_m.mean()}\")\n",
    "print(f\"avg money spent per transaction by female: {pur_sum_f.mean()}\")"
   ]
  },
  {
   "cell_type": "raw",
   "id": "b14899cd-b3e4-4cd5-b899-4dff1647165f",
   "metadata": {},
   "source": [
    "- So males have spent more money per transaction than females"
   ]
  },
  {
   "cell_type": "code",
   "execution_count": null,
   "id": "2ae55dbe-91b6-42cf-b8de-c4882ccbc9ab",
   "metadata": {},
   "outputs": [],
   "source": []
  },
  {
   "cell_type": "code",
   "execution_count": 58,
   "id": "fd1fe6e8-ac62-4747-968e-7d3afa5fbc8b",
   "metadata": {
    "tags": []
   },
   "outputs": [
    {
     "data": {
      "text/html": [
       "<div>\n",
       "<style scoped>\n",
       "    .dataframe tbody tr th:only-of-type {\n",
       "        vertical-align: middle;\n",
       "    }\n",
       "\n",
       "    .dataframe tbody tr th {\n",
       "        vertical-align: top;\n",
       "    }\n",
       "\n",
       "    .dataframe thead th {\n",
       "        text-align: right;\n",
       "    }\n",
       "</style>\n",
       "<table border=\"1\" class=\"dataframe\">\n",
       "  <thead>\n",
       "    <tr style=\"text-align: right;\">\n",
       "      <th></th>\n",
       "      <th>Purchase</th>\n",
       "    </tr>\n",
       "  </thead>\n",
       "  <tbody>\n",
       "    <tr>\n",
       "      <th>count</th>\n",
       "      <td>5.891000e+03</td>\n",
       "    </tr>\n",
       "    <tr>\n",
       "      <th>mean</th>\n",
       "      <td>8.650166e+05</td>\n",
       "    </tr>\n",
       "    <tr>\n",
       "      <th>std</th>\n",
       "      <td>9.436445e+05</td>\n",
       "    </tr>\n",
       "    <tr>\n",
       "      <th>min</th>\n",
       "      <td>4.668100e+04</td>\n",
       "    </tr>\n",
       "    <tr>\n",
       "      <th>25%</th>\n",
       "      <td>2.376780e+05</td>\n",
       "    </tr>\n",
       "    <tr>\n",
       "      <th>50%</th>\n",
       "      <td>5.212130e+05</td>\n",
       "    </tr>\n",
       "    <tr>\n",
       "      <th>75%</th>\n",
       "      <td>1.119250e+06</td>\n",
       "    </tr>\n",
       "    <tr>\n",
       "      <th>max</th>\n",
       "      <td>1.053691e+07</td>\n",
       "    </tr>\n",
       "  </tbody>\n",
       "</table>\n",
       "</div>"
      ],
      "text/plain": [
       "           Purchase\n",
       "count  5.891000e+03\n",
       "mean   8.650166e+05\n",
       "std    9.436445e+05\n",
       "min    4.668100e+04\n",
       "25%    2.376780e+05\n",
       "50%    5.212130e+05\n",
       "75%    1.119250e+06\n",
       "max    1.053691e+07"
      ]
     },
     "execution_count": 58,
     "metadata": {},
     "output_type": "execute_result"
    }
   ],
   "source": [
    "pd.DataFrame(df.groupby([\"User_ID\"])[\"Purchase\"].sum()).sort_values([\"Purchase\"], ascending=False).describe()"
   ]
  },
  {
   "cell_type": "code",
   "execution_count": null,
   "id": "ef2f4f4e-fb92-4291-a13c-da5fd8c91aaf",
   "metadata": {
    "tags": []
   },
   "outputs": [],
   "source": []
  },
  {
   "cell_type": "markdown",
   "id": "b786fdcc-65ef-4ee6-b60b-55fdda05e462",
   "metadata": {},
   "source": [
    "## Confidence intervals and distribution of the mean of the expenses by female and male customers"
   ]
  },
  {
   "cell_type": "code",
   "execution_count": 64,
   "id": "521dd353-5ada-45bf-bac2-62355d2bb09b",
   "metadata": {},
   "outputs": [
    {
     "data": {
      "text/plain": [
       "<matplotlib.legend.Legend at 0x215254b8110>"
      ]
     },
     "execution_count": 64,
     "metadata": {},
     "output_type": "execute_result"
    },
    {
     "data": {
      "image/png": "[encoded data removed]",
      "text/plain": [
       "<Figure size 640x480 with 1 Axes>"
      ]
     },
     "metadata": {},
     "output_type": "display_data"
    }
   ],
   "source": [
    "sns.histplot(pur_sum_m, color=\"orange\")\n",
    "sns.histplot(pur_sum_f)\n",
    "\n",
    "plt.legend([\"Population's Purchase distribution of Males\", \"Population's Purchase distribution of Female\"])"
   ]
  },
  {
   "cell_type": "raw",
   "id": "17f30e1e-3096-4b36-91b5-e5020096c212",
   "metadata": {},
   "source": [
    "- As can be seen from above graph, the purchase distribution of population doesnt follow normal distribution,\n",
    "  Applying the CLT can give us a better idea about the range within which population's mean can lie\n"
   ]
  },
  {
   "cell_type": "code",
   "execution_count": null,
   "id": "3a4e9345-1c77-44d4-a0ea-22a5bc6710c2",
   "metadata": {},
   "outputs": [],
   "source": []
  },
  {
   "cell_type": "code",
   "execution_count": null,
   "id": "965c7cac-c235-4c36-9cb4-05baf714c40e",
   "metadata": {},
   "outputs": [],
   "source": []
  },
  {
   "cell_type": "code",
   "execution_count": 65,
   "id": "8a874860-35ad-4dbf-8a65-6d97ce0d59a1",
   "metadata": {
    "tags": []
   },
   "outputs": [],
   "source": [
    "# creating array of means of purchase by males with sample size=700\n",
    "sm1 = []\n",
    "\n",
    "for reps in range(2000):\n",
    "    s1 = np.random.choice(pur_sum_m, size=700)\n",
    "    means = np.mean(s1)\n",
    "    sm1.append(means)\n",
    "sm1 = np.array(sm1)"
   ]
  },
  {
   "cell_type": "code",
   "execution_count": null,
   "id": "bea0cb7d-70eb-41a8-8d16-0c78c8a753fc",
   "metadata": {},
   "outputs": [],
   "source": []
  },
  {
   "cell_type": "code",
   "execution_count": 66,
   "id": "68d0f9a0-88f1-4dd8-b5f7-b3f5f1e0d8f1",
   "metadata": {
    "tags": []
   },
   "outputs": [],
   "source": [
    "# creating array of means of purchase by females with sample size=700\n",
    "sf1 = []\n",
    "\n",
    "for reps in range(2000):\n",
    "    s1 = np.random.choice(pur_sum_f, size=700)\n",
    "    means = np.mean(s1)\n",
    "    sf1.append(means)\n",
    "sf1 = np.array(sf1)"
   ]
  },
  {
   "cell_type": "code",
   "execution_count": 86,
   "id": "8537e548-19e7-4779-8e4f-ac75a8037b70",
   "metadata": {
    "tags": []
   },
   "outputs": [
    {
     "data": {
      "text/plain": [
       "<matplotlib.legend.Legend at 0x21525533110>"
      ]
     },
     "execution_count": 86,
     "metadata": {},
     "output_type": "execute_result"
    },
    {
     "data": {
      "image/png": "[encoded data removed]",
      "text/plain": [
       "<Figure size 640x480 with 1 Axes>"
      ]
     },
     "metadata": {},
     "output_type": "display_data"
    }
   ],
   "source": [
    "# We can see that sample means are normally distributed\n",
    "sns.histplot(sm1, color=\"orange\")\n",
    "sns.histplot(sf1)\n",
    "\n",
    "plt.legend([\"Mean Purchase by Males\", \"Mean Purchase by Females\"])"
   ]
  },
  {
   "cell_type": "code",
   "execution_count": null,
   "id": "38946322-c217-4a73-aef9-403c62be45c1",
   "metadata": {},
   "outputs": [],
   "source": []
  },
  {
   "cell_type": "code",
   "execution_count": 68,
   "id": "83755aed-1ce5-44ab-9187-17d6580392f4",
   "metadata": {
    "tags": []
   },
   "outputs": [],
   "source": [
    "def calc_CI(mean, std, confidence):\n",
    "    # calculate std_error\n",
    "    std_error = std\n",
    "    print(\"Standard Error: \", std_error)\n",
    "\n",
    "    # calculate the remaining fractions\n",
    "    frac = (1 - (confidence/100)) / 2\n",
    "\n",
    "    # calculate z1 and z2\n",
    "    z1 = norm.ppf(frac)\n",
    "    z2 = norm.ppf(1 - frac)\n",
    "\n",
    "    # calculate end points\n",
    "    x1 = mean + (z1 * std_error)\n",
    "    x2 = mean + (z2 * std_error)\n",
    "\n",
    "    return np.round((x1, x2), 2)"
   ]
  },
  {
   "cell_type": "code",
   "execution_count": 69,
   "id": "488719b1-dad6-4336-826b-fec5761beae2",
   "metadata": {
    "tags": []
   },
   "outputs": [
    {
     "name": "stdout",
     "output_type": "stream",
     "text": [
      "Standard Error:  36598.87197510574\n",
      "Male_CI for 95% confidence level: [855162.52 998627.46]\n"
     ]
    }
   ],
   "source": [
    "# taking 95% confidence level\n",
    "# Confidence Interval (CI) for purchases by males\n",
    "print(f\"Male_CI for 95% confidence level: {calc_CI(sm1.mean(), sm1.std(), 95)}\")"
   ]
  },
  {
   "cell_type": "code",
   "execution_count": 70,
   "id": "a5ae3926-e7bd-4800-8c02-9fc80ce3147f",
   "metadata": {
    "tags": []
   },
   "outputs": [
    {
     "name": "stdout",
     "output_type": "stream",
     "text": [
      "Standard Error:  30858.59149417764\n",
      "Female_CI for 95% confidence level: [650913.73 771877.19]\n"
     ]
    }
   ],
   "source": [
    "# taking 95% confidence level\n",
    "# Confidence Interval (CI) for purchases by females\n",
    "print(f\"Female_CI for 95% confidence level: {calc_CI(sf1.mean(), sf1.std(), 95)}\")"
   ]
  },
  {
   "cell_type": "code",
   "execution_count": null,
   "id": "be49d730-f231-4381-bc43-1a84ac15465d",
   "metadata": {},
   "outputs": [],
   "source": []
  },
  {
   "cell_type": "code",
   "execution_count": 79,
   "id": "d7fa32ad-ace5-4b98-8d43-9869a77e8d78",
   "metadata": {
    "tags": []
   },
   "outputs": [
    {
     "name": "stdout",
     "output_type": "stream",
     "text": [
      "Male_CI for 90% confidence level: [870231.51835714 986304.17328571]\n",
      "Female_CI for 90% confidence level: [662310.12164286 764344.85335714]\n"
     ]
    }
   ],
   "source": [
    "print(f\"Male_CI for 90% confidence level: {np.percentile(sm1, [5, 95])}\")\n",
    "print(f\"Female_CI for 90% confidence level: {np.percentile(sf1, [5, 95])}\")"
   ]
  },
  {
   "cell_type": "code",
   "execution_count": null,
   "id": "dc1ca15f-3c04-4430-b135-c67c06b4731d",
   "metadata": {},
   "outputs": [],
   "source": []
  },
  {
   "cell_type": "code",
   "execution_count": null,
   "id": "88010607-8cfc-47b2-b079-284fab61765b",
   "metadata": {},
   "outputs": [],
   "source": []
  },
  {
   "cell_type": "raw",
   "id": "ff3912ef-210d-4376-840b-1ee50a887950",
   "metadata": {},
   "source": [
    "- so confidence interval of males and females is not overlapping\n",
    "- CI shrinks as we decrease the confidence level"
   ]
  },
  {
   "cell_type": "code",
   "execution_count": null,
   "id": "5bb57a85-c99e-45f6-b57a-9627a8cea2db",
   "metadata": {},
   "outputs": [],
   "source": []
  },
  {
   "cell_type": "markdown",
   "id": "7c6eec1b-9d4d-49f0-a5d7-928f93213546",
   "metadata": {},
   "source": [
    "## How Married vs Unmarried compare?"
   ]
  },
  {
   "cell_type": "code",
   "execution_count": 80,
   "id": "bc9123df-6c40-4a45-9206-476062007761",
   "metadata": {
    "tags": []
   },
   "outputs": [],
   "source": [
    "# grouping by User_ID\n",
    "pur_sum_mr = df[df[\"Marital_Status\"]==1].groupby(\"User_ID\")[\"Purchase\"].sum()\n",
    "pur_sum_umr = df[df[\"Marital_Status\"]==0].groupby(\"User_ID\")[\"Purchase\"].sum()"
   ]
  },
  {
   "cell_type": "code",
   "execution_count": null,
   "id": "402a56c2-4186-443c-929b-8bf2533a32e0",
   "metadata": {},
   "outputs": [],
   "source": []
  },
  {
   "cell_type": "code",
   "execution_count": 82,
   "id": "43f9f98a-277b-4612-9f20-3ebe7e304563",
   "metadata": {
    "tags": []
   },
   "outputs": [
    {
     "name": "stdout",
     "output_type": "stream",
     "text": [
      "avg money spent per transaction by married: 843526.7966855295\n",
      "avg money spent per transaction by unmarried: 880575.7819724905\n"
     ]
    }
   ],
   "source": [
    "print(f\"avg money spent per transaction by married: {pur_sum_mr.mean()}\")\n",
    "print(f\"avg money spent per transaction by unmarried: {pur_sum_umr.mean()}\")"
   ]
  },
  {
   "cell_type": "raw",
   "id": "5a73234b-f9cb-4972-b772-c48d7f8ef09e",
   "metadata": {},
   "source": [
    "- So unmarried people spends slightly more than married"
   ]
  },
  {
   "cell_type": "code",
   "execution_count": 84,
   "id": "f6722142-3970-4a7c-92d6-bb260fb94b76",
   "metadata": {
    "tags": []
   },
   "outputs": [],
   "source": [
    "smr1 = []\n",
    "\n",
    "for reps in range(2000):\n",
    "    s1 = np.random.choice(pur_sum_mr, size=700)\n",
    "    means = np.mean(s1)\n",
    "    smr1.append(means)\n",
    "smr1 = np.array(smr1)"
   ]
  },
  {
   "cell_type": "code",
   "execution_count": 85,
   "id": "706f9757-ccc0-4d0a-a0b1-c6487732d026",
   "metadata": {
    "tags": []
   },
   "outputs": [],
   "source": [
    "sumr1 = []\n",
    "\n",
    "for reps in range(2000):\n",
    "    s1 = np.random.choice(pur_sum_umr, size=700)\n",
    "    means = np.mean(s1)\n",
    "    sumr1.append(means)\n",
    "sumr1 = np.array(sumr1)"
   ]
  },
  {
   "cell_type": "code",
   "execution_count": null,
   "id": "094b170a-feef-4f7d-9db2-da7e3964185f",
   "metadata": {},
   "outputs": [],
   "source": []
  },
  {
   "cell_type": "code",
   "execution_count": 87,
   "id": "09b1cfa1-4939-4e85-867f-126cadf910d8",
   "metadata": {
    "tags": []
   },
   "outputs": [
    {
     "data": {
      "text/plain": [
       "<matplotlib.legend.Legend at 0x2152834e9d0>"
      ]
     },
     "execution_count": 87,
     "metadata": {},
     "output_type": "execute_result"
    },
    {
     "data": {
      "image/png": "[encoded data removed]",
      "text/plain": [
       "<Figure size 640x480 with 1 Axes>"
      ]
     },
     "metadata": {},
     "output_type": "display_data"
    }
   ],
   "source": [
    "# We can see that means of the samples are normally distributed\n",
    "sns.histplot(smr1, color=\"orange\")\n",
    "sns.histplot(sumr1)\n",
    "\n",
    "plt.legend(['Mean Purchase by Married', 'Mean Purchase by Unmarried'])"
   ]
  },
  {
   "cell_type": "raw",
   "id": "1b03cfd4-167e-4ae0-9137-d4a5e7d22e1a",
   "metadata": {},
   "source": [
    "- The distribution of married and unmarried is almost similar"
   ]
  },
  {
   "cell_type": "code",
   "execution_count": 88,
   "id": "7c531c56-e6c6-4da3-9376-bd91f4b18e83",
   "metadata": {},
   "outputs": [
    {
     "name": "stdout",
     "output_type": "stream",
     "text": [
      "Married_CI for 95% confidence level: [774588.01521429 916056.92367857]\n",
      "Unmarried_CI for 95% confidence level: [812530.67896429 955463.36039286]\n"
     ]
    }
   ],
   "source": [
    "print(f\"Married_CI for 95% confidence level: {np.percentile(smr1, [2.5, 97.5])}\")\n",
    "print(f\"Unmarried_CI for 95% confidence level: {np.percentile(sumr1, [2.5, 97.5])}\")"
   ]
  },
  {
   "cell_type": "raw",
   "id": "b7fe7ac4-3bc4-413c-bbd0-0742f620b0b2",
   "metadata": {},
   "source": [
    "- So confidence interval for married and unmarried group overlaps"
   ]
  },
  {
   "cell_type": "code",
   "execution_count": null,
   "id": "6127fd74-c85c-416c-a4b2-ed312a1f18da",
   "metadata": {},
   "outputs": [],
   "source": []
  },
  {
   "cell_type": "code",
   "execution_count": null,
   "id": "24f3a488-b0bf-4bad-b89d-16904c171e1f",
   "metadata": {},
   "outputs": [],
   "source": []
  },
  {
   "cell_type": "code",
   "execution_count": null,
   "id": "485ac758-3b64-4896-b9cb-bcaaa9ac49df",
   "metadata": {},
   "outputs": [],
   "source": []
  },
  {
   "cell_type": "markdown",
   "id": "81c3e581-9f5c-4ac6-9f6e-07bf996cb852",
   "metadata": {},
   "source": [
    "## How the distribution compare Age wise?"
   ]
  },
  {
   "cell_type": "code",
   "execution_count": 89,
   "id": "56074bee-fc00-446e-a48b-9b1939dec4e9",
   "metadata": {
    "tags": []
   },
   "outputs": [],
   "source": [
    "# Analysisng top3 age groups\n",
    "pur_18_25 = df[df[\"Age\"]==\"18-25\"].groupby(\"User_ID\")[\"Purchase\"].sum()\n",
    "pur_26_35 = df[df[\"Age\"]==\"26-35\"].groupby(\"User_ID\")[\"Purchase\"].sum()\n",
    "pur_36_45 = df[df[\"Age\"]==\"36-45\"].groupby(\"User_ID\")[\"Purchase\"].sum()"
   ]
  },
  {
   "cell_type": "code",
   "execution_count": 90,
   "id": "1213b499-2499-4a75-9064-f58902ec8cef",
   "metadata": {
    "tags": []
   },
   "outputs": [],
   "source": [
    "s_18_25 = []\n",
    "\n",
    "for reps in range(2000):\n",
    "    s1 = np.random.choice(pur_18_25, size=700)\n",
    "    means = np.mean(s1)\n",
    "    s_18_25.append(means)\n",
    "s_18_25 = np.array(s_18_25)"
   ]
  },
  {
   "cell_type": "code",
   "execution_count": 91,
   "id": "e3412478-ac1d-4470-beb8-0e346aaa1333",
   "metadata": {
    "tags": []
   },
   "outputs": [],
   "source": [
    "s_26_35 = []\n",
    "\n",
    "for reps in range(2000):\n",
    "    s1 = np.random.choice(pur_26_35, size=700)\n",
    "    means = np.mean(s1)\n",
    "    s_26_35.append(means)\n",
    "s_26_35 = np.array(s_26_35)"
   ]
  },
  {
   "cell_type": "code",
   "execution_count": 92,
   "id": "78236da3-1cdd-4b29-ade3-0e501b929ef7",
   "metadata": {
    "tags": []
   },
   "outputs": [],
   "source": [
    "s_36_45 = []\n",
    "\n",
    "for reps in range(2000):\n",
    "    s1 = np.random.choice(pur_36_45, size=700)\n",
    "    means = np.mean(s1)\n",
    "    s_36_45.append(means)\n",
    "s_36_45 = np.array(s_36_45)"
   ]
  },
  {
   "cell_type": "code",
   "execution_count": null,
   "id": "bc6e9134-aae7-4f78-ba0f-f9746aeaf785",
   "metadata": {},
   "outputs": [],
   "source": []
  },
  {
   "cell_type": "code",
   "execution_count": 93,
   "id": "5af3f551-7df4-4301-99d4-15c95e059d48",
   "metadata": {
    "tags": []
   },
   "outputs": [
    {
     "data": {
      "text/plain": [
       "<matplotlib.legend.Legend at 0x21528539150>"
      ]
     },
     "execution_count": 93,
     "metadata": {},
     "output_type": "execute_result"
    },
    {
     "data": {
      "image/png": "[encoded data removed]",
      "text/plain": [
       "<Figure size 640x480 with 1 Axes>"
      ]
     },
     "metadata": {},
     "output_type": "display_data"
    }
   ],
   "source": [
    "sns.histplot(s_18_25, color=\"orange\")\n",
    "sns.histplot(s_26_35, color = \"green\")\n",
    "sns.histplot(s_36_45)\n",
    "\n",
    "plt.legend(['18-25', '26-35', '36-45'])"
   ]
  },
  {
   "cell_type": "code",
   "execution_count": null,
   "id": "d3f4edd7-3362-4fe8-bfc4-4a96c8b62207",
   "metadata": {},
   "outputs": [],
   "source": []
  },
  {
   "cell_type": "code",
   "execution_count": 98,
   "id": "19d05e92-23ac-4f6d-a1ca-2dc65e5fca52",
   "metadata": {},
   "outputs": [
    {
     "name": "stdout",
     "output_type": "stream",
     "text": [
      "CI of 18-25 age group for 95% confidence level: [794725.685 922877.003]\n",
      "CI of 26-35 age group for 95% confidence level: [ 913406.975 1066179.855]\n",
      "CI of 36-45 age group for 95% confidence level: [810512.677 955290.686]\n"
     ]
    }
   ],
   "source": [
    "print(f\"CI of 18-25 age group for 95% confidence level: {np.round(np.percentile(s_18_25, [2.5, 97.5]), 3)}\")\n",
    "print(f\"CI of 26-35 age group for 95% confidence level: {np.round(np.percentile(s_26_35, [2.5, 97.5]), 3)}\")\n",
    "print(f\"CI of 36-45 age group for 95% confidence level: {np.round(np.percentile(s_36_45, [2.5, 97.5]), 3)}\")"
   ]
  },
  {
   "cell_type": "code",
   "execution_count": null,
   "id": "8596707d-eddd-43a3-91bc-41e26c1a0b13",
   "metadata": {},
   "outputs": [],
   "source": []
  },
  {
   "cell_type": "raw",
   "id": "f69c52a6-f77c-4f57-8f65-7236e129e263",
   "metadata": {},
   "source": [
    "- Age group 26-35 has highest avg bill value followed by 36-45, 18-25 age group"
   ]
  },
  {
   "cell_type": "code",
   "execution_count": null,
   "id": "70e73e9a-91de-4882-8b16-4ae0e6afdf13",
   "metadata": {},
   "outputs": [],
   "source": []
  },
  {
   "cell_type": "code",
   "execution_count": null,
   "id": "1dd87a56-6865-40ae-beb4-8f32d53dec81",
   "metadata": {},
   "outputs": [],
   "source": []
  },
  {
   "cell_type": "markdown",
   "id": "ea726698-6a12-4a92-8d05-08f205326a0e",
   "metadata": {},
   "source": [
    "# Key Insights & Recommendations:\n"
   ]
  },
  {
   "cell_type": "code",
   "execution_count": null,
   "id": "9c273ff3-4a8e-4459-9a26-325d9edc7e30",
   "metadata": {},
   "outputs": [],
   "source": []
  },
  {
   "cell_type": "raw",
   "id": "9d8f4ecf-3cc3-4f41-805a-4f388c2b0a59",
   "metadata": {},
   "source": [
    "Key Insights:\n",
    "\n",
    "- Occupation seems to have almost no significant effect on mean purchase amount\n",
    "\n",
    "- category 26-35 contributes the most in revenue followed by category 36-45 and 18-25.\n",
    "- Age group 26-35 has highest avg bill value followed by 36-45, 18-25 age group\n",
    "- Even though the number of users between 26-35 is higher in cat: C than in A and B, the sales revenue generated from\n",
    "  that group is comparatively low.\n",
    "- This might indicate that cat: A and B has wealthier income group than cat: C\n",
    "\n",
    "- Amongst City Categories, most of the users are from city cat: C\n",
    "\n",
    "- Stay_In_Current_City_Years doesnt seem to have any effect on bill value\n",
    "\n",
    "- distribution of Marital status is similar among three city categories\n",
    "\n",
    "- Product_Category: 5, 1, 8 are the top3 categories contributing in sales revenue.\n",
    "\n",
    "- unmarried people spends slightly more than married\n",
    "\n",
    "- distribution of gender is similar across the age groups"
   ]
  },
  {
   "cell_type": "code",
   "execution_count": null,
   "id": "1a0077b3-422a-4c1a-b5cd-eb9ba3674e77",
   "metadata": {},
   "outputs": [],
   "source": []
  },
  {
   "cell_type": "raw",
   "id": "c4c4bf2d-7dbc-4031-b2c2-4656789100b1",
   "metadata": {},
   "source": [
    "Recommendations:\n",
    "\n",
    "- It can be observed that women have spent lesser than males, so try to bring more offers for the women centric products thereby increasing the revenue\n",
    "\n",
    "- to improve the sales in 17-25 and 55+ age category, Implement some lucky draw offer for these particular age group only.\n",
    "\n",
    "- To manage the rush and boost the revenue, implement \"Happy hours\" (eg 1PM to 5PM), i.e. if the customer visits in those hrs, he/she will get some additional discount or say complimentary gift.\n",
    "\n",
    "- Customers with high bill amount should be provided with discount coupon that they can redeem with their next store purchase on 3rd, 5th (odd), etc visit.\n",
    "\n",
    "- We have less customers from city cat: A and B as compared to city cat: C, so try to open another outlet convenient to users from city cat: A and B.\n",
    "\n",
    "- city cat: A and B has wealthier user group, so try to capitalize on that with strong marketing campaigns"
   ]
  },
  {
   "cell_type": "code",
   "execution_count": null,
   "id": "859046c6-c839-4765-a41e-c4688471c0e8",
   "metadata": {},
   "outputs": [],
   "source": []
  },
  {
   "cell_type": "code",
   "execution_count": null,
   "id": "207cd444-e27d-4de4-8e58-86012417f4b9",
   "metadata": {},
   "outputs": [],
   "source": []
  },
  {
   "cell_type": "code",
   "execution_count": null,
   "id": "4890d73e-bdba-436a-a43c-a0e21a860a13",
   "metadata": {},
   "outputs": [],
   "source": []
  },
  {
   "cell_type": "code",
   "execution_count": null,
   "id": "f74fb337-7184-49bb-aa92-9a5e12b395b8",
   "metadata": {},
   "outputs": [],
   "source": []
  },
  {
   "cell_type": "code",
   "execution_count": null,
   "id": "acfcdba9-1f68-4a2c-8e47-cc655aaa973f",
   "metadata": {},
   "outputs": [],
   "source": []
  }
 ],
 "metadata": {
  "kernelspec": {
   "display_name": "Python 3 (ipykernel)",
   "language": "python",
   "name": "python3"
  },
  "language_info": {
   "codemirror_mode": {
    "name": "ipython",
    "version": 3
   },
   "file_extension": ".py",
   "mimetype": "text/x-python",
   "name": "python",
   "nbconvert_exporter": "python",
   "pygments_lexer": "ipython3",
   "version": "3.11.4"
  },
  "toc-autonumbering": true
 },
 "nbformat": 4,
 "nbformat_minor": 5
}
